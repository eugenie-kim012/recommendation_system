{
 "cells": [
  {
   "cell_type": "markdown",
   "metadata": {
    "id": "GGeftgiA61UH"
   },
   "source": [
    "# 데이터 설명입니다"
   ]
  },
  {
   "cell_type": "markdown",
   "metadata": {
    "id": "o-9kA7FA6zZc"
   },
   "source": [
    "SUMMARY\n",
    "================================================================================\n",
    "\n",
    "This dataset was constructed by YOOCHOOSE GmbH to support participants in the RecSys Challenge 2015.\n",
    "See  http://recsys.yoochoose.net for details about the challenge.\n",
    "\n",
    "The YOOCHOOSE dataset contain a collection of sessions from a retailer, where each session\n",
    "is encapsulating the click events that the user performed in the session.\n",
    "For some of the sessions, there are also buy events; means that the session ended\n",
    "with the user bought something from the web shop. The data was collected during several\n",
    "months in the year of 2014, reflecting the clicks and purchases performed by the users\n",
    "of an on-line retailer in Europe.  To protect end users privacy, as well as the retailer,\n",
    "all numbers have been modified. Do not try to reveal the identity of the retailer.\n",
    "\n",
    "LICENSE\n",
    "================================================================================\n",
    "This dataset is licensed under the Creative Commons Attribution-NonCommercial-NoDerivatives 4.0\n",
    "International License. To view a copy of this license, visit http://creativecommons.org/licenses/by-nc-nd/4.0/.\n",
    "YOOCHOOSE cannot guarantee the completeness and correctness of the data or the validity\n",
    "of results based on the use of the dataset as it was collected by implicit tracking of a website.\n",
    "If you have any further questions or comments, please contact YooChoose <support@YooChoose.com>.\n",
    "The data is provided \"as it is\" and there is no obligation of YOOCHOOSE to correct it,\n",
    "improve it or to provide additional information about it.\n",
    "\n",
    "CLICKS DATASET FILE DESCRIPTION\n",
    "================================================================================\n",
    "The file yoochoose-clicks.dat comprising the clicks of the users over the items.\n",
    "Each record/line in the file has the following fields/format: Session ID, Timestamp, Item ID, Category\n",
    "-Session ID – the id of the session. In one session there are one or many clicks. Could be represented as an integer number.\n",
    "-Timestamp – the time when the click occurred. Format of YYYY-MM-DDThh:mm:ss.SSSZ\n",
    "-Item ID – the unique identifier of the item that has been clicked. Could be represented as an integer number.\n",
    "-Category – the context of the click. The value \"S\" indicates a special offer, \"0\" indicates  a missing value, a number between 1 to 12 indicates a real category identifier,\n",
    " any other number indicates a brand. E.g. if an item has been clicked in the context of a promotion or special offer then the value will be \"S\", if the context was a brand i.e BOSCH,\n",
    " then the value will be an 8-10 digits number. If the item has been clicked under regular category, i.e. sport, then the value will be a number between 1 to 12.\n",
    "\n",
    "BUYS DATSET FILE DESCRIPTION\n",
    "================================================================================\n",
    "The file yoochoose-buys.dat comprising the buy events of the users over the items.\n",
    "Each record/line in the file has the following fields: Session ID, Timestamp, Item ID, Price, Quantity\n",
    "\n",
    "-Session ID - the id of the session. In one session there are one or many buying events. Could be represented as an integer number.\n",
    "-Timestamp - the time when the buy occurred. Format of YYYY-MM-DDThh:mm:ss.SSSZ\n",
    "-Item ID – the unique identifier of item that has been bought. Could be represented as an integer number.\n",
    "-Price – the price of the item. Could be represented as an integer number.\n",
    "-Quantity – the quantity in this buying.  Could be represented as an integer number.\n",
    "\n",
    "TEST DATASET FILE DESCRIPTION\n",
    "================================================================================\n",
    "The file yoochoose-test.dat comprising only clicks of users over items.\n",
    "This file served as a test file in the RecSys challenge 2015.\n",
    "The structure is identical to the file yoochoose-clicks.dat but you will not find the\n",
    "corresponding buying events to these sessions in the yoochoose-buys.dat file."
   ]
  },
  {
   "cell_type": "markdown",
   "metadata": {
    "id": "HphYg3-ysVlZ"
   },
   "source": [
    "# 시작"
   ]
  },
  {
   "cell_type": "code",
   "execution_count": null,
   "metadata": {
    "colab": {
     "base_uri": "https://localhost:8080/"
    },
    "id": "67GU9N75sfxb",
    "outputId": "10762cfb-d9ff-4f98-dae9-0732eb325ceb"
   },
   "outputs": [
    {
     "name": "stdout",
     "output_type": "stream",
     "text": [
      "Mounted at /content/drive\n"
     ]
    }
   ],
   "source": [
    "from google.colab import drive\n",
    "drive.mount('/content/drive')"
   ]
  },
  {
   "cell_type": "markdown",
   "metadata": {},
   "source": [
    "# Data Preprocess\n",
    "## 2.1. Data Load\n",
    "* 데이터를 불러와 살펴보고, 주요 통계치들을 살표보기\n",
    "* Click 데이터에 있는 Session Id, TimeStamp, ItemId 칼럼만 사용하기"
   ]
  },
  {
   "cell_type": "code",
   "execution_count": 1,
   "metadata": {
    "id": "5gUVS87E6YYB"
   },
   "outputs": [],
   "source": [
    "import datetime as dt\n",
    "from pathlib import Path\n",
    "import os\n",
    "\n",
    "import numpy as np\n",
    "import pandas as pd\n",
    "import warnings\n",
    "warnings.filterwarnings('ignore')"
   ]
  },
  {
   "cell_type": "code",
   "execution_count": 7,
   "metadata": {
    "colab": {
     "base_uri": "https://localhost:8080/",
     "height": 35
    },
    "id": "fvJSnav4651d",
    "outputId": "b84a9848-96b6-44ab-b22e-c105d6e7254a"
   },
   "outputs": [
    {
     "data": {
      "text/plain": [
       "PosixPath('/aiffel/aiffel/yoochoose/data/yoochoose-clicks.dat')"
      ]
     },
     "execution_count": 7,
     "metadata": {},
     "output_type": "execute_result"
    }
   ],
   "source": [
    "## 각자 드라이브 위치로 경로를 잘 바꿔주세요~\n",
    "data_path = Path(os.getenv('HOME')+'/aiffel/yoochoose/data')\n",
    "#train_path = '/content/drive/MyDrive/Colab Notebooks/데싸4기/추천시스템/data/yoochoose-clicks.dat'\n",
    "train_path = data_path / 'yoochoose-clicks.dat'\n",
    "train_path"
   ]
  },
  {
   "cell_type": "markdown",
   "metadata": {
    "id": "zjP4FCJ38pK0"
   },
   "source": [
    "# 결측치오류\n",
    "\n",
    "- LMS 코드를 그대로 사용하면 결측치 오류가 납니다 (주석은 LMS 코드, 아래는 한달치 코드)"
   ]
  },
  {
   "cell_type": "code",
   "execution_count": null,
   "metadata": {
    "id": "oEfbP4vD7xYx"
   },
   "outputs": [],
   "source": [
    "# def load_data(data_path: Path, nrows=None):\n",
    "#     data = pd.read_csv(\n",
    "#         data_path,\n",
    "#         sep=',',\n",
    "#         header=None,\n",
    "#         usecols=[0, 1, 2],\n",
    "#         parse_dates=[1],\n",
    "#         dtype={0: np.int32, 2: np.int32},\n",
    "#         nrows=nrows\n",
    "#     )\n",
    "#     data.columns = ['SessionId', 'Time', 'ItemId']\n",
    "\n",
    "#     # 결측값 제거\n",
    "#     data.dropna(subset=['ItemId'], inplace=True)\n",
    "\n",
    "#     return data"
   ]
  },
  {
   "cell_type": "code",
   "execution_count": null,
   "metadata": {
    "id": "ADIZADQC74UF"
   },
   "outputs": [],
   "source": [
    "# 시간이 좀 걸릴 수 있습니다. 메모리도 10GB 가까이 소요될 수 있으니 메모리 상태에 주의해 주세요.\n",
    "\n",
    "# data = load_data(train_path, None)\n",
    "# data.sort_values(['SessionId', 'Time'], inplace=True)  # data를 id와 시간 순서로 정렬해줍니다.\n",
    "# # data"
   ]
  },
  {
   "cell_type": "markdown",
   "metadata": {
    "id": "YcVebObsQpAU"
   },
   "source": [
    "# 메모리 오류\n",
    "\n",
    "위 코드를 사용하면 메모리 오류가난다\n",
    "\n",
    "밑에서 어차피 최근 1달동안의 데이터만 쓰기때문에\n",
    "\n",
    "미리 잘라서 가져와보자"
   ]
  },
  {
   "cell_type": "code",
   "execution_count": 3,
   "metadata": {
    "id": "lwUUbFnJQyYk"
   },
   "outputs": [],
   "source": [
    "def load_recent_data(data_path, cutoff_days=30):\n",
    "    chunk_size = 5_000_000\n",
    "    chunks = []\n",
    "\n",
    "    print(\"📅 [1/3] 최신 날짜 찾는 중...\")\n",
    "    latest = None\n",
    "    total_chunks = 0\n",
    "    for i, chunk in enumerate(pd.read_csv(\n",
    "        data_path,\n",
    "        sep=',',\n",
    "        header=None,\n",
    "        usecols=[0, 1, 2],\n",
    "        parse_dates=[1],\n",
    "        dtype={0: np.int32, 2: np.int32},\n",
    "        chunksize=chunk_size\n",
    "    )):\n",
    "        max_time = chunk[1].max()\n",
    "        if latest is None or max_time > latest:\n",
    "            latest = max_time\n",
    "        total_chunks += 1\n",
    "        print(f\"  ▸ 최신 날짜 스캔 중... chunk {i+1} 완료\")\n",
    "\n",
    "    print(f\"✅ 최신 날짜: {latest}\")\n",
    "    month_ago = latest - dt.timedelta(days=cutoff_days)\n",
    "    print(f\"📆 기준 날짜: {month_ago}\")\n",
    "\n",
    "    print(\"📦 [2/3] 최근 30일 데이터 필터링 중...\")\n",
    "    matched_rows = 0\n",
    "    for i, chunk in enumerate(pd.read_csv(\n",
    "        data_path,\n",
    "        sep=',',\n",
    "        header=None,\n",
    "        usecols=[0, 1, 2],\n",
    "        parse_dates=[1],\n",
    "        dtype={0: np.int32, 2: np.int32},\n",
    "        chunksize=chunk_size\n",
    "    )):\n",
    "        chunk.columns = ['SessionId', 'Time', 'ItemId']\n",
    "        filtered = chunk[chunk['Time'] > month_ago]\n",
    "        matched_rows += len(filtered)\n",
    "        if not filtered.empty:\n",
    "            chunks.append(filtered)\n",
    "        print(f\"  ▸ chunk {i+1} 처리 완료 ({len(filtered)}개 매치됨)\")\n",
    "\n",
    "    data = pd.concat(chunks, ignore_index=True)\n",
    "\n",
    "    print(\"🎉 [3/3] 필터링 완료\")\n",
    "    print(f\"🧾 최종 데이터 크기: {len(data):,} rows\")\n",
    "\n",
    "    return data"
   ]
  },
  {
   "cell_type": "code",
   "execution_count": null,
   "metadata": {},
   "outputs": [],
   "source": [
    "# 🧠 이 함수의 목적 요약:\n",
    "# 대규모 로그 데이터에서\n",
    "\n",
    "# 최신 날짜 기준으로 30일 이내의 기록만 필터링해서\n",
    "\n",
    "# 메모리 효율적으로 처리한 후 반환합니다.\n",
    "\n",
    "# def load_recent_data(data_path, cutoff_days=30):\n",
    "#     chunk_size = 5_000_000  # 한 번에 읽어올 CSV 행 수 (메모리 절약을 위해 chunk 단위로 읽음)\n",
    "#     chunks = []             # 필터링된 chunk들을 담을 리스트\n",
    "\n",
    "#     print(\"📅 [1/3] 최신 날짜 찾는 중...\")\n",
    "#     latest = None           # 데이터 전체에서 가장 최신 날짜를 저장할 변수\n",
    "#     total_chunks = 0        # chunk 개수 카운트용\n",
    "\n",
    "#     # 1단계: 전체 파일을 chunk 단위로 읽으며 가장 최신 날짜(max_time)를 찾는다\n",
    "#     for i, chunk in enumerate(pd.read_csv(\n",
    "#         data_path,\n",
    "#         sep=',',                      # CSV 파일 구분자\n",
    "#         header=None,                 # 헤더 없음\n",
    "#         usecols=[0, 1, 2],           # 필요한 열만 읽음: SessionId, Time, ItemId\n",
    "#         parse_dates=[1],            # 두 번째 열(Time)을 날짜 형식으로 파싱\n",
    "#         dtype={0: np.int32, 2: np.int32},  # 메모리 절약을 위해 정수형 지정\n",
    "#         chunksize=chunk_size         # 한 번에 읽어올 행 수\n",
    "#     )):\n",
    "#         max_time = chunk[1].max()    # 현재 chunk에서 가장 최신 시간\n",
    "#         if latest is None or max_time > latest:\n",
    "#             latest = max_time        # 전체에서 가장 최신 시간으로 갱신\n",
    "#         total_chunks += 1\n",
    "#         print(f\"  ▸ 최신 날짜 스캔 중... chunk {i+1} 완료\")\n",
    "\n",
    "#     print(f\"✅ 최신 날짜: {latest}\")\n",
    "#     month_ago = latest - dt.timedelta(days=cutoff_days)  # 기준 날짜 설정: 최신 날짜 - cutoff_days\n",
    "#     print(f\"📆 기준 날짜: {month_ago}\")\n",
    "\n",
    "#     print(\"📦 [2/3] 최근 30일 데이터 필터링 중...\")\n",
    "#     matched_rows = 0  # 필터링된 행 수 카운트\n",
    "\n",
    "#     # 2단계: 다시 전체 데이터를 읽으며 기준 날짜 이후의 데이터만 필터링\n",
    "#     for i, chunk in enumerate(pd.read_csv(\n",
    "#         data_path,\n",
    "#         sep=',',\n",
    "#         header=None,\n",
    "#         usecols=[0, 1, 2],\n",
    "#         parse_dates=[1],\n",
    "#         dtype={0: np.int32, 2: np.int32},\n",
    "#         chunksize=chunk_size\n",
    "#     )):\n",
    "#         chunk.columns = ['SessionId', 'Time', 'ItemId']  # 컬럼명 지정\n",
    "#         filtered = chunk[chunk['Time'] > month_ago]      # 기준 날짜 이후 데이터만 선택\n",
    "#         matched_rows += len(filtered)                    # 매치된 행 수 누적\n",
    "#         if not filtered.empty:\n",
    "#             chunks.append(filtered)                      # 비어있지 않으면 chunks에 추가\n",
    "#         print(f\"  ▸ chunk {i+1} 처리 완료 ({len(filtered)}개 매치됨)\")\n",
    "\n",
    "#     # 3단계: 필터링된 모든 chunk를 하나의 데이터프레임으로 결합\n",
    "#     data = pd.concat(chunks, ignore_index=True)\n",
    "\n",
    "#     print(\"🎉 [3/3] 필터링 완료\")\n",
    "#     print(f\"🧾 최종 데이터 크기: {len(data):,} rows\")\n",
    "\n",
    "#     return data  # 최근 30일치 데이터 반환\n"
   ]
  },
  {
   "cell_type": "code",
   "execution_count": 8,
   "metadata": {
    "colab": {
     "base_uri": "https://localhost:8080/"
    },
    "id": "da_8Z0WRQ6Bd",
    "outputId": "fa4c2615-de14-426b-f5c2-3320a5e7cefb"
   },
   "outputs": [
    {
     "name": "stdout",
     "output_type": "stream",
     "text": [
      "📅 [1/3] 최신 날짜 찾는 중...\n",
      "  ▸ 최신 날짜 스캔 중... chunk 1 완료\n",
      "  ▸ 최신 날짜 스캔 중... chunk 2 완료\n",
      "  ▸ 최신 날짜 스캔 중... chunk 3 완료\n",
      "  ▸ 최신 날짜 스캔 중... chunk 4 완료\n",
      "  ▸ 최신 날짜 스캔 중... chunk 5 완료\n",
      "  ▸ 최신 날짜 스캔 중... chunk 6 완료\n",
      "  ▸ 최신 날짜 스캔 중... chunk 7 완료\n",
      "✅ 최신 날짜: 2014-09-30 02:59:59.430000+00:00\n",
      "📆 기준 날짜: 2014-08-31 02:59:59.430000+00:00\n",
      "📦 [2/3] 최근 30일 데이터 필터링 중...\n",
      "  ▸ chunk 1 처리 완료 (0개 매치됨)\n",
      "  ▸ chunk 2 처리 완료 (0개 매치됨)\n",
      "  ▸ chunk 3 처리 완료 (0개 매치됨)\n",
      "  ▸ chunk 4 처리 완료 (0개 매치됨)\n",
      "  ▸ chunk 5 처리 완료 (0개 매치됨)\n",
      "  ▸ chunk 6 처리 완료 (2637457개 매치됨)\n",
      "  ▸ chunk 7 처리 완료 (3003944개 매치됨)\n",
      "🎉 [3/3] 필터링 완료\n",
      "🧾 최종 데이터 크기: 5,641,401 rows\n"
     ]
    }
   ],
   "source": [
    "# 저는 15분정도 걸렸습니다\n",
    "\n",
    "data = load_recent_data(train_path)\n",
    "data.sort_values(['SessionId', 'Time'], inplace=True)"
   ]
  },
  {
   "cell_type": "markdown",
   "metadata": {
    "id": "oF4sRakNTKpw"
   },
   "source": []
  },
  {
   "cell_type": "code",
   "execution_count": 9,
   "metadata": {
    "colab": {
     "base_uri": "https://localhost:8080/",
     "height": 423
    },
    "id": "emuOak128uXR",
    "outputId": "7f92b3fa-c676-4305-e329-09515d5ccb99"
   },
   "outputs": [
    {
     "data": {
      "text/html": [
       "<div>\n",
       "<style scoped>\n",
       "    .dataframe tbody tr th:only-of-type {\n",
       "        vertical-align: middle;\n",
       "    }\n",
       "\n",
       "    .dataframe tbody tr th {\n",
       "        vertical-align: top;\n",
       "    }\n",
       "\n",
       "    .dataframe thead th {\n",
       "        text-align: right;\n",
       "    }\n",
       "</style>\n",
       "<table border=\"1\" class=\"dataframe\">\n",
       "  <thead>\n",
       "    <tr style=\"text-align: right;\">\n",
       "      <th></th>\n",
       "      <th>SessionId</th>\n",
       "      <th>Time</th>\n",
       "      <th>ItemId</th>\n",
       "    </tr>\n",
       "  </thead>\n",
       "  <tbody>\n",
       "    <tr>\n",
       "      <th>126221</th>\n",
       "      <td>9194111</td>\n",
       "      <td>2014-08-31 17:40:46.805000+00:00</td>\n",
       "      <td>214853420</td>\n",
       "    </tr>\n",
       "    <tr>\n",
       "      <th>126222</th>\n",
       "      <td>9194111</td>\n",
       "      <td>2014-08-31 17:42:26.089000+00:00</td>\n",
       "      <td>214850942</td>\n",
       "    </tr>\n",
       "    <tr>\n",
       "      <th>126223</th>\n",
       "      <td>9194111</td>\n",
       "      <td>2014-08-31 17:44:06.583000+00:00</td>\n",
       "      <td>214829878</td>\n",
       "    </tr>\n",
       "    <tr>\n",
       "      <th>126224</th>\n",
       "      <td>9194111</td>\n",
       "      <td>2014-08-31 17:48:49.873000+00:00</td>\n",
       "      <td>214853420</td>\n",
       "    </tr>\n",
       "    <tr>\n",
       "      <th>126317</th>\n",
       "      <td>9194112</td>\n",
       "      <td>2014-09-01 13:26:36.292000+00:00</td>\n",
       "      <td>214853422</td>\n",
       "    </tr>\n",
       "    <tr>\n",
       "      <th>...</th>\n",
       "      <td>...</td>\n",
       "      <td>...</td>\n",
       "      <td>...</td>\n",
       "    </tr>\n",
       "    <tr>\n",
       "      <th>4867944</th>\n",
       "      <td>11562158</td>\n",
       "      <td>2014-09-26 04:50:29.172000+00:00</td>\n",
       "      <td>214849132</td>\n",
       "    </tr>\n",
       "    <tr>\n",
       "      <th>4867945</th>\n",
       "      <td>11562158</td>\n",
       "      <td>2014-09-26 04:52:21.900000+00:00</td>\n",
       "      <td>214854774</td>\n",
       "    </tr>\n",
       "    <tr>\n",
       "      <th>4867946</th>\n",
       "      <td>11562158</td>\n",
       "      <td>2014-09-26 05:16:32.904000+00:00</td>\n",
       "      <td>214849132</td>\n",
       "    </tr>\n",
       "    <tr>\n",
       "      <th>4867947</th>\n",
       "      <td>11562159</td>\n",
       "      <td>2014-09-26 19:16:28.897000+00:00</td>\n",
       "      <td>214849132</td>\n",
       "    </tr>\n",
       "    <tr>\n",
       "      <th>4867934</th>\n",
       "      <td>11562161</td>\n",
       "      <td>2014-09-26 20:45:42.791000+00:00</td>\n",
       "      <td>214546022</td>\n",
       "    </tr>\n",
       "  </tbody>\n",
       "</table>\n",
       "<p>5641401 rows × 3 columns</p>\n",
       "</div>"
      ],
      "text/plain": [
       "         SessionId                             Time     ItemId\n",
       "126221     9194111 2014-08-31 17:40:46.805000+00:00  214853420\n",
       "126222     9194111 2014-08-31 17:42:26.089000+00:00  214850942\n",
       "126223     9194111 2014-08-31 17:44:06.583000+00:00  214829878\n",
       "126224     9194111 2014-08-31 17:48:49.873000+00:00  214853420\n",
       "126317     9194112 2014-09-01 13:26:36.292000+00:00  214853422\n",
       "...            ...                              ...        ...\n",
       "4867944   11562158 2014-09-26 04:50:29.172000+00:00  214849132\n",
       "4867945   11562158 2014-09-26 04:52:21.900000+00:00  214854774\n",
       "4867946   11562158 2014-09-26 05:16:32.904000+00:00  214849132\n",
       "4867947   11562159 2014-09-26 19:16:28.897000+00:00  214849132\n",
       "4867934   11562161 2014-09-26 20:45:42.791000+00:00  214546022\n",
       "\n",
       "[5641401 rows x 3 columns]"
      ]
     },
     "execution_count": 9,
     "metadata": {},
     "output_type": "execute_result"
    }
   ],
   "source": [
    "data"
   ]
  },
  {
   "cell_type": "markdown",
   "metadata": {},
   "source": [
    "## Session Length\n",
    "- 각 세션이 몇개의 클릭 데이터를 갖는지 살펴보기\n",
    "- 데이터 EDA"
   ]
  },
  {
   "cell_type": "code",
   "execution_count": 10,
   "metadata": {
    "colab": {
     "base_uri": "https://localhost:8080/",
     "height": 489
    },
    "id": "qhOAzT6T8vMD",
    "outputId": "090fec89-d7c3-46d1-b693-b2083a9059bb"
   },
   "outputs": [
    {
     "data": {
      "text/plain": [
       "SessionId\n",
       "9194111     4\n",
       "9194112     1\n",
       "9194123     3\n",
       "9194124     2\n",
       "9194126     1\n",
       "           ..\n",
       "11562156    2\n",
       "11562157    2\n",
       "11562158    3\n",
       "11562159    1\n",
       "11562161    1\n",
       "Length: 1639032, dtype: int64"
      ]
     },
     "execution_count": 10,
     "metadata": {},
     "output_type": "execute_result"
    }
   ],
   "source": [
    "session_length = data.groupby('SessionId').size()\n",
    "session_length"
   ]
  },
  {
   "cell_type": "markdown",
   "metadata": {},
   "source": [
    "* session_length란 같은 SessionId를 공유하는 데이터 row의 개수\n",
    "* SessionId란 브라우저에서 웹서버로 접속할 때 항상 포함하게 되는 유저 구분자,로그인하지 않았기 때문에 이 사용자가 누군지는 알 수 없어도, 최소한 특정 사용자의 행동을 SessionId 기준으로 모아서 분류해낼 수는 있음. "
   ]
  },
  {
   "cell_type": "code",
   "execution_count": 12,
   "metadata": {
    "colab": {
     "base_uri": "https://localhost:8080/"
    },
    "id": "YKEiOUdB_8fl",
    "outputId": "fa58e053-4dfd-4825-bf2f-4ffb67fdbf1f"
   },
   "outputs": [
    {
     "data": {
      "text/plain": [
       "(2.0, 3.441910225059669)"
      ]
     },
     "execution_count": 12,
     "metadata": {},
     "output_type": "execute_result"
    }
   ],
   "source": [
    "session_length.median(), session_length.mean()\n",
    "#* 따라서 여기서 session_length란 해당 세션의 사용자가 그 세션 동안 몇 번의 액션을 취했는지(몇 개의 상품정보를 클릭했는지)의 의미.\n",
    "# 즉 여기서는 sessionid를 공유하는 데이터 row의 수를 median 그리고 mean으로 구분하였음\n",
    "# 각 세션의 길이"
   ]
  },
  {
   "cell_type": "code",
   "execution_count": 13,
   "metadata": {
    "colab": {
     "base_uri": "https://localhost:8080/"
    },
    "id": "cWBrY68SAa7q",
    "outputId": "86f7c1e0-30a6-4dc5-8274-4b7764d82843"
   },
   "outputs": [
    {
     "data": {
      "text/plain": [
       "(1, 200)"
      ]
     },
     "execution_count": 13,
     "metadata": {},
     "output_type": "execute_result"
    }
   ],
   "source": [
    "session_length.min(), session_length.max()\n",
    "#이 경우는 유저 구분자의 최소 그리고 최대를 알아내기 위함임"
   ]
  },
  {
   "cell_type": "code",
   "execution_count": null,
   "metadata": {
    "colab": {
     "base_uri": "https://localhost:8080/"
    },
    "id": "Py-rjIQGAcKI",
    "outputId": "d3127843-2347-4e08-e288-46ada1203992"
   },
   "outputs": [
    {
     "data": {
      "text/plain": [
       "np.float64(41.0)"
      ]
     },
     "execution_count": 12,
     "metadata": {},
     "output_type": "execute_result"
    }
   ],
   "source": [
    "session_length.quantile(0.999)"
   ]
  },
  {
   "cell_type": "markdown",
   "metadata": {},
   "source": [
    "* 각 세션의 길이는 보통 2~3 정도입니다. 온라인에서 쇼핑할 때를 생각해 보면 이 수치가 그럴듯하게 느껴집니다.\n",
    "* 99.9% 세션은 길이가 41이하입니다.길이가 200인 세션은 뭔가 이상합니다.\n",
    "* 하나를 잡고 살펴봅시다.\n",
    "\n",
    "\n",
    "\n",
    "\n"
   ]
  },
  {
   "cell_type": "code",
   "execution_count": 14,
   "metadata": {
    "colab": {
     "base_uri": "https://localhost:8080/",
     "height": 423
    },
    "id": "k1UWhrCpAd5B",
    "outputId": "25343e9f-e74d-42ac-9cb6-b0f7b6394b4c"
   },
   "outputs": [
    {
     "data": {
      "text/html": [
       "<div>\n",
       "<style scoped>\n",
       "    .dataframe tbody tr th:only-of-type {\n",
       "        vertical-align: middle;\n",
       "    }\n",
       "\n",
       "    .dataframe tbody tr th {\n",
       "        vertical-align: top;\n",
       "    }\n",
       "\n",
       "    .dataframe thead th {\n",
       "        text-align: right;\n",
       "    }\n",
       "</style>\n",
       "<table border=\"1\" class=\"dataframe\">\n",
       "  <thead>\n",
       "    <tr style=\"text-align: right;\">\n",
       "      <th></th>\n",
       "      <th>SessionId</th>\n",
       "      <th>Time</th>\n",
       "      <th>ItemId</th>\n",
       "    </tr>\n",
       "  </thead>\n",
       "  <tbody>\n",
       "    <tr>\n",
       "      <th>1497718</th>\n",
       "      <td>9781279</td>\n",
       "      <td>2014-09-05 12:36:09.590000+00:00</td>\n",
       "      <td>214534211</td>\n",
       "    </tr>\n",
       "    <tr>\n",
       "      <th>1497719</th>\n",
       "      <td>9781279</td>\n",
       "      <td>2014-09-05 12:36:14.493000+00:00</td>\n",
       "      <td>214680463</td>\n",
       "    </tr>\n",
       "    <tr>\n",
       "      <th>1497720</th>\n",
       "      <td>9781279</td>\n",
       "      <td>2014-09-05 12:36:18.288000+00:00</td>\n",
       "      <td>214587193</td>\n",
       "    </tr>\n",
       "    <tr>\n",
       "      <th>1497721</th>\n",
       "      <td>9781279</td>\n",
       "      <td>2014-09-05 12:36:29.075000+00:00</td>\n",
       "      <td>214834978</td>\n",
       "    </tr>\n",
       "    <tr>\n",
       "      <th>1497722</th>\n",
       "      <td>9781279</td>\n",
       "      <td>2014-09-05 12:37:59.583000+00:00</td>\n",
       "      <td>214684755</td>\n",
       "    </tr>\n",
       "    <tr>\n",
       "      <th>...</th>\n",
       "      <td>...</td>\n",
       "      <td>...</td>\n",
       "      <td>...</td>\n",
       "    </tr>\n",
       "    <tr>\n",
       "      <th>1497913</th>\n",
       "      <td>9781279</td>\n",
       "      <td>2014-09-05 15:48:45.346000+00:00</td>\n",
       "      <td>214565557</td>\n",
       "    </tr>\n",
       "    <tr>\n",
       "      <th>1497914</th>\n",
       "      <td>9781279</td>\n",
       "      <td>2014-09-05 15:48:55.612000+00:00</td>\n",
       "      <td>214585406</td>\n",
       "    </tr>\n",
       "    <tr>\n",
       "      <th>1497915</th>\n",
       "      <td>9781279</td>\n",
       "      <td>2014-09-05 15:49:06.494000+00:00</td>\n",
       "      <td>214581444</td>\n",
       "    </tr>\n",
       "    <tr>\n",
       "      <th>1497916</th>\n",
       "      <td>9781279</td>\n",
       "      <td>2014-09-05 15:49:08.383000+00:00</td>\n",
       "      <td>214565535</td>\n",
       "    </tr>\n",
       "    <tr>\n",
       "      <th>1497917</th>\n",
       "      <td>9781279</td>\n",
       "      <td>2014-09-05 15:49:54.401000+00:00</td>\n",
       "      <td>214532113</td>\n",
       "    </tr>\n",
       "  </tbody>\n",
       "</table>\n",
       "<p>200 rows × 3 columns</p>\n",
       "</div>"
      ],
      "text/plain": [
       "         SessionId                             Time     ItemId\n",
       "1497718    9781279 2014-09-05 12:36:09.590000+00:00  214534211\n",
       "1497719    9781279 2014-09-05 12:36:14.493000+00:00  214680463\n",
       "1497720    9781279 2014-09-05 12:36:18.288000+00:00  214587193\n",
       "1497721    9781279 2014-09-05 12:36:29.075000+00:00  214834978\n",
       "1497722    9781279 2014-09-05 12:37:59.583000+00:00  214684755\n",
       "...            ...                              ...        ...\n",
       "1497913    9781279 2014-09-05 15:48:45.346000+00:00  214565557\n",
       "1497914    9781279 2014-09-05 15:48:55.612000+00:00  214585406\n",
       "1497915    9781279 2014-09-05 15:49:06.494000+00:00  214581444\n",
       "1497916    9781279 2014-09-05 15:49:08.383000+00:00  214565535\n",
       "1497917    9781279 2014-09-05 15:49:54.401000+00:00  214532113\n",
       "\n",
       "[200 rows x 3 columns]"
      ]
     },
     "execution_count": 14,
     "metadata": {},
     "output_type": "execute_result"
    }
   ],
   "source": [
    "long_session = session_length[session_length==200].index[0]\n",
    "data[data['SessionId']==long_session]"
   ]
  },
  {
   "cell_type": "markdown",
   "metadata": {},
   "source": [
    "매우 짧은 간격으로 지속적으로 클릭을 1시간 30분가량 지속하고 있습니다.\n",
    "유저들의 서비스 이용행태는 다양하기 때문에 데이터 전처리를 어떻게 할지는 모델을 만드는 사람이 판단해야 합니다.\n",
    "e.g.) 음악 데이터의 경우 어떤 사람은 하루 종일 랜덤 재생을 할 수도 있습니다. 이 유저의 데이터를 그대로 사용하는 게 좋을까요?\n",
    "e.g.) 어떤 상품의 경우 1분 내에 20명이 10점을 주고 나갈 수도 있습니다. 이 상품을 팔기 위해 조작하고 있는 건 아닐까요?\n",
    "\n",
    "너무 긴 세션을 제거할 수도 있고 포함시킬 수도 있습니다. 어떻게 하면 좋을지 판단해 보세요.\n",
    "\n",
    "세션 길이에 대한 감을 더 잘 파악하기 위해 시각화를 해보겠습니다. 아래는 세션 길이 기준 하위 99.9%까지의 분포 누적합을 시각화한 것입니다.\n",
    "\n",
    "\n",
    "\n",
    "\n"
   ]
  },
  {
   "cell_type": "code",
   "execution_count": 15,
   "metadata": {
    "colab": {
     "base_uri": "https://localhost:8080/",
     "height": 1000
    },
    "id": "8NiR-UigBj2d",
    "outputId": "829084a4-aade-4f41-afec-bf84ed38e6e4"
   },
   "outputs": [
    {
     "data": {
      "text/plain": [
       "1     0.220500\n",
       "2     0.556013\n",
       "3     0.708616\n",
       "4     0.802125\n",
       "5     0.856219\n",
       "6     0.894427\n",
       "7     0.918897\n",
       "8     0.937228\n",
       "9     0.949918\n",
       "10    0.959849\n",
       "11    0.967048\n",
       "12    0.972919\n",
       "13    0.977373\n",
       "14    0.981030\n",
       "15    0.983903\n",
       "16    0.986304\n",
       "17    0.988186\n",
       "18    0.989821\n",
       "19    0.991083\n",
       "20    0.992187\n",
       "21    0.993125\n",
       "22    0.993929\n",
       "23    0.994665\n",
       "24    0.995272\n",
       "25    0.995760\n",
       "26    0.996192\n",
       "27    0.996590\n",
       "28    0.996934\n",
       "29    0.997228\n",
       "30    0.997495\n",
       "31    0.997723\n",
       "32    0.997937\n",
       "33    0.998112\n",
       "34    0.998264\n",
       "35    0.998401\n",
       "36    0.998541\n",
       "37    0.998655\n",
       "38    0.998757\n",
       "39    0.998857\n",
       "40    0.998944\n",
       "dtype: float64"
      ]
     },
     "execution_count": 15,
     "metadata": {},
     "output_type": "execute_result"
    }
   ],
   "source": [
    "length_count = session_length.groupby(session_length).size()\n",
    "length_percent_cumsum = length_count.cumsum() / length_count.sum()\n",
    "length_percent_cumsum_999 = length_percent_cumsum[length_percent_cumsum < 0.999]\n",
    "\n",
    "length_percent_cumsum_999"
   ]
  },
  {
   "cell_type": "code",
   "execution_count": 16,
   "metadata": {
    "colab": {
     "base_uri": "https://localhost:8080/",
     "height": 861
    },
    "id": "zVB76kznBkw7",
    "outputId": "bddef055-fe63-4e20-b6b5-3d198d9dbe76"
   },
   "outputs": [
    {
     "data": {
      "image/png": "[encoded data removed]",
      "text/plain": [
       "<Figure size 864x720 with 1 Axes>"
      ]
     },
     "metadata": {
      "needs_background": "light"
     },
     "output_type": "display_data"
    }
   ],
   "source": [
    "import matplotlib.pyplot as plt\n",
    "\n",
    "plt.figure(figsize=(12, 10))\n",
    "plt.bar(x=length_percent_cumsum_999.index,\n",
    "        height=length_percent_cumsum_999, color='red')\n",
    "plt.xticks(length_percent_cumsum_999.index)\n",
    "plt.yticks(np.arange(0, 1.01, 0.05))\n",
    "plt.title('Cumsum Percentage Until 0.999', size=20)\n",
    "plt.show()"
   ]
  },
  {
   "cell_type": "markdown",
   "metadata": {},
   "source": [
    "추천시스템은 유저-상품 관계 매트릭스를 유저 행렬과 상품 행렬의 곱으로 표현하는 Matrix Factorization 모델을 널리 사용합니다. 그렇다면 이 데이터도 유저와 클릭한 상품정보 관계에 대해 Matrix Factorization을 사용하면 어떨까요?\n",
    "\n",
    "User * Item Matrix의 빈칸이 너무 많아서(data sparsity) 모델이 제대로 학습되지 않을 가능성이 있다. 이 세션정보는 유저를 ID 기반으로 정리할 수 없기 때문에 세션 하나를 유저 하나로 본다면 기존의 유저-상품정보 Matrix보다 훨씬 sparse한 형태가 된다.\n",
    "\n"
   ]
  },
  {
   "cell_type": "markdown",
   "metadata": {},
   "source": [
    "## Session Time\n",
    "* 추천 시스템을 구축하기 앞서 최근 소비 트렌드를 학습하기\n",
    "* 접속하는 시간대(오전, 오후, 새벽), 접속해 있는 시간, 접속하는 요일, 계절, 마지막 접속 시간, 장바구니에 넣고 지난 시간 등등\n",
    "\n",
    "\n"
   ]
  },
  {
   "cell_type": "code",
   "execution_count": 18,
   "metadata": {
    "colab": {
     "base_uri": "https://localhost:8080/"
    },
    "id": "fsRfvKXABn75",
    "outputId": "9a0c034a-13c4-4127-d0cf-447aabf8d211"
   },
   "outputs": [
    {
     "name": "stdout",
     "output_type": "stream",
     "text": [
      "2014-08-31 03:00:01.111000+00:00\n",
      "2014-09-30 02:59:59.430000+00:00\n"
     ]
    }
   ],
   "source": [
    "oldest, latest = data['Time'].min(), data['Time'].max()\n",
    "print(oldest)\n",
    "print(latest)"
   ]
  },
  {
   "cell_type": "code",
   "execution_count": 20,
   "metadata": {
    "colab": {
     "base_uri": "https://localhost:8080/"
    },
    "id": "6KMIIKGNBpPG",
    "outputId": "99e03c96-9dba-4cc6-c9bf-38c8e888de94"
   },
   "outputs": [
    {
     "data": {
      "text/plain": [
       "pandas._libs.tslibs.timestamps.Timestamp"
      ]
     },
     "execution_count": 20,
     "metadata": {},
     "output_type": "execute_result"
    }
   ],
   "source": [
    "type(latest)"
   ]
  },
  {
   "cell_type": "code",
   "execution_count": 21,
   "metadata": {
    "colab": {
     "base_uri": "https://localhost:8080/",
     "height": 423
    },
    "id": "y9x5XoLcBqCU",
    "outputId": "b499b146-ca8d-49d2-ff5a-67d4394aad8c"
   },
   "outputs": [
    {
     "data": {
      "text/html": [
       "<div>\n",
       "<style scoped>\n",
       "    .dataframe tbody tr th:only-of-type {\n",
       "        vertical-align: middle;\n",
       "    }\n",
       "\n",
       "    .dataframe tbody tr th {\n",
       "        vertical-align: top;\n",
       "    }\n",
       "\n",
       "    .dataframe thead th {\n",
       "        text-align: right;\n",
       "    }\n",
       "</style>\n",
       "<table border=\"1\" class=\"dataframe\">\n",
       "  <thead>\n",
       "    <tr style=\"text-align: right;\">\n",
       "      <th></th>\n",
       "      <th>SessionId</th>\n",
       "      <th>Time</th>\n",
       "      <th>ItemId</th>\n",
       "    </tr>\n",
       "  </thead>\n",
       "  <tbody>\n",
       "    <tr>\n",
       "      <th>126221</th>\n",
       "      <td>9194111</td>\n",
       "      <td>2014-08-31 17:40:46.805000+00:00</td>\n",
       "      <td>214853420</td>\n",
       "    </tr>\n",
       "    <tr>\n",
       "      <th>126222</th>\n",
       "      <td>9194111</td>\n",
       "      <td>2014-08-31 17:42:26.089000+00:00</td>\n",
       "      <td>214850942</td>\n",
       "    </tr>\n",
       "    <tr>\n",
       "      <th>126223</th>\n",
       "      <td>9194111</td>\n",
       "      <td>2014-08-31 17:44:06.583000+00:00</td>\n",
       "      <td>214829878</td>\n",
       "    </tr>\n",
       "    <tr>\n",
       "      <th>126224</th>\n",
       "      <td>9194111</td>\n",
       "      <td>2014-08-31 17:48:49.873000+00:00</td>\n",
       "      <td>214853420</td>\n",
       "    </tr>\n",
       "    <tr>\n",
       "      <th>126317</th>\n",
       "      <td>9194112</td>\n",
       "      <td>2014-09-01 13:26:36.292000+00:00</td>\n",
       "      <td>214853422</td>\n",
       "    </tr>\n",
       "    <tr>\n",
       "      <th>...</th>\n",
       "      <td>...</td>\n",
       "      <td>...</td>\n",
       "      <td>...</td>\n",
       "    </tr>\n",
       "    <tr>\n",
       "      <th>4867944</th>\n",
       "      <td>11562158</td>\n",
       "      <td>2014-09-26 04:50:29.172000+00:00</td>\n",
       "      <td>214849132</td>\n",
       "    </tr>\n",
       "    <tr>\n",
       "      <th>4867945</th>\n",
       "      <td>11562158</td>\n",
       "      <td>2014-09-26 04:52:21.900000+00:00</td>\n",
       "      <td>214854774</td>\n",
       "    </tr>\n",
       "    <tr>\n",
       "      <th>4867946</th>\n",
       "      <td>11562158</td>\n",
       "      <td>2014-09-26 05:16:32.904000+00:00</td>\n",
       "      <td>214849132</td>\n",
       "    </tr>\n",
       "    <tr>\n",
       "      <th>4867947</th>\n",
       "      <td>11562159</td>\n",
       "      <td>2014-09-26 19:16:28.897000+00:00</td>\n",
       "      <td>214849132</td>\n",
       "    </tr>\n",
       "    <tr>\n",
       "      <th>4867934</th>\n",
       "      <td>11562161</td>\n",
       "      <td>2014-09-26 20:45:42.791000+00:00</td>\n",
       "      <td>214546022</td>\n",
       "    </tr>\n",
       "  </tbody>\n",
       "</table>\n",
       "<p>5641401 rows × 3 columns</p>\n",
       "</div>"
      ],
      "text/plain": [
       "         SessionId                             Time     ItemId\n",
       "126221     9194111 2014-08-31 17:40:46.805000+00:00  214853420\n",
       "126222     9194111 2014-08-31 17:42:26.089000+00:00  214850942\n",
       "126223     9194111 2014-08-31 17:44:06.583000+00:00  214829878\n",
       "126224     9194111 2014-08-31 17:48:49.873000+00:00  214853420\n",
       "126317     9194112 2014-09-01 13:26:36.292000+00:00  214853422\n",
       "...            ...                              ...        ...\n",
       "4867944   11562158 2014-09-26 04:50:29.172000+00:00  214849132\n",
       "4867945   11562158 2014-09-26 04:52:21.900000+00:00  214854774\n",
       "4867946   11562158 2014-09-26 05:16:32.904000+00:00  214849132\n",
       "4867947   11562159 2014-09-26 19:16:28.897000+00:00  214849132\n",
       "4867934   11562161 2014-09-26 20:45:42.791000+00:00  214546022\n",
       "\n",
       "[5641401 rows x 3 columns]"
      ]
     },
     "execution_count": 21,
     "metadata": {},
     "output_type": "execute_result"
    }
   ],
   "source": [
    "month_ago = latest - dt.timedelta(30)     # 최종 날짜로부터 30일 이전 날짜를 구한다.\n",
    "data = data[data['Time'] > month_ago]   # 방금 구한 날짜 이후의 데이터만 모은다.\n",
    "data"
   ]
  },
  {
   "cell_type": "markdown",
   "metadata": {
    "id": "nrOxn3yRBvsq"
   },
   "source": [
    "# 전처리\n",
    "## Data Cleansing\n",
    "\n",
    "한 세션에서 2번 이상 클릭안한 제품을 제거\n",
    "\n",
    "전체에서 5번이상 클릭 안한 제품을 제거"
   ]
  },
  {
   "cell_type": "code",
   "execution_count": 22,
   "metadata": {
    "id": "KoY7yA4ZBvFD"
   },
   "outputs": [],
   "source": [
    "# short_session을 제거한 다음 unpopular item을 제거하면 다시 길이가 1인 session이 생길 수 있습니다.\n",
    "# 이를 위해 반복문을 통해 지속적으로 제거 합니다.\n",
    "def cleanse_recursive(data: pd.DataFrame, shortest, least_click) -> pd.DataFrame:\n",
    "    while True:\n",
    "        before_len = len(data)\n",
    "        data = cleanse_short_session(data, shortest)\n",
    "        data = cleanse_unpopular_item(data, least_click)\n",
    "        after_len = len(data)\n",
    "        if before_len == after_len:\n",
    "            break\n",
    "    return data\n",
    "\n",
    "\n",
    "def cleanse_short_session(data: pd.DataFrame, shortest):\n",
    "    session_len = data.groupby('SessionId').size()\n",
    "    session_use = session_len[session_len >= shortest].index\n",
    "    data = data[data['SessionId'].isin(session_use)]\n",
    "    return data\n",
    "\n",
    "\n",
    "def cleanse_unpopular_item(data: pd.DataFrame, least_click):\n",
    "    item_popular = data.groupby('ItemId').size()\n",
    "    item_use = item_popular[item_popular >= least_click].index\n",
    "    data = data[data['ItemId'].isin(item_use)]\n",
    "    return data"
   ]
  },
  {
   "cell_type": "code",
   "execution_count": null,
   "metadata": {},
   "outputs": [],
   "source": [
    "# # short_session을 제거한 다음 unpopular item을 제거하면 다시 길이가 1인 session이 생길 수 있습니다.\n",
    "# # 이를 방지하기 위해 두 정제 작업을 반복해서 수행합니다.\n",
    "# def cleanse_recursive(data: pd.DataFrame, shortest, least_click) -> pd.DataFrame:\n",
    "#     while True:\n",
    "#         before_len = len(data)  # 정제 전 데이터 길이 저장\n",
    "#         data = cleanse_short_session(data, shortest)         # 짧은 세션 제거\n",
    "#         data = cleanse_unpopular_item(data, least_click)     # 클릭 수 적은 아이템 제거\n",
    "#         after_len = len(data)   # 정제 후 데이터 길이 저장\n",
    "#         if before_len == after_len:  # 데이터 길이가 변하지 않으면 종료\n",
    "#             break\n",
    "#     return data  # 정제 완료된 데이터 반환\n",
    "\n",
    "\n",
    "# # 특정 길이보다 짧은 세션(SessionId)을 제거하는 함수\n",
    "# def cleanse_short_session(data: pd.DataFrame, shortest):\n",
    "#     session_len = data.groupby('SessionId').size()            # 각 세션별 클릭 수 계산\n",
    "#     session_use = session_len[session_len >= shortest].index  # 기준 이상 길이의 세션만 추출\n",
    "#     data = data[data['SessionId'].isin(session_use)]          # 해당 세션만 유지\n",
    "#     return data\n",
    "\n",
    "# # 특정 횟수 이하로 클릭된 비인기 아이템(ItemId)을 제거하는 함수\n",
    "# def cleanse_unpopular_item(data: pd.DataFrame, least_click):\n",
    "#     item_popular = data.groupby('ItemId').size()              # 각 아이템의 총 클릭 수 계산\n",
    "#     item_use = item_popular[item_popular >= least_click].index  # 기준 이상 클릭된 아이템만 추출\n",
    "#     data = data[data['ItemId'].isin(item_use)]                # 해당 아이템만 유지\n",
    "#     return data\n"
   ]
  },
  {
   "cell_type": "code",
   "execution_count": 23,
   "metadata": {
    "colab": {
     "base_uri": "https://localhost:8080/",
     "height": 423
    },
    "id": "XqOMVQwIB6wI",
    "outputId": "d2c2c7b5-4349-444e-843c-95bdebf735b6"
   },
   "outputs": [
    {
     "data": {
      "text/html": [
       "<div>\n",
       "<style scoped>\n",
       "    .dataframe tbody tr th:only-of-type {\n",
       "        vertical-align: middle;\n",
       "    }\n",
       "\n",
       "    .dataframe tbody tr th {\n",
       "        vertical-align: top;\n",
       "    }\n",
       "\n",
       "    .dataframe thead th {\n",
       "        text-align: right;\n",
       "    }\n",
       "</style>\n",
       "<table border=\"1\" class=\"dataframe\">\n",
       "  <thead>\n",
       "    <tr style=\"text-align: right;\">\n",
       "      <th></th>\n",
       "      <th>SessionId</th>\n",
       "      <th>Time</th>\n",
       "      <th>ItemId</th>\n",
       "    </tr>\n",
       "  </thead>\n",
       "  <tbody>\n",
       "    <tr>\n",
       "      <th>126221</th>\n",
       "      <td>9194111</td>\n",
       "      <td>2014-08-31 17:40:46.805000+00:00</td>\n",
       "      <td>214853420</td>\n",
       "    </tr>\n",
       "    <tr>\n",
       "      <th>126222</th>\n",
       "      <td>9194111</td>\n",
       "      <td>2014-08-31 17:42:26.089000+00:00</td>\n",
       "      <td>214850942</td>\n",
       "    </tr>\n",
       "    <tr>\n",
       "      <th>126223</th>\n",
       "      <td>9194111</td>\n",
       "      <td>2014-08-31 17:44:06.583000+00:00</td>\n",
       "      <td>214829878</td>\n",
       "    </tr>\n",
       "    <tr>\n",
       "      <th>126224</th>\n",
       "      <td>9194111</td>\n",
       "      <td>2014-08-31 17:48:49.873000+00:00</td>\n",
       "      <td>214853420</td>\n",
       "    </tr>\n",
       "    <tr>\n",
       "      <th>126314</th>\n",
       "      <td>9194123</td>\n",
       "      <td>2014-08-31 19:26:57.386000+00:00</td>\n",
       "      <td>214601207</td>\n",
       "    </tr>\n",
       "    <tr>\n",
       "      <th>...</th>\n",
       "      <td>...</td>\n",
       "      <td>...</td>\n",
       "      <td>...</td>\n",
       "    </tr>\n",
       "    <tr>\n",
       "      <th>4867942</th>\n",
       "      <td>11562157</td>\n",
       "      <td>2014-09-25 12:31:10.391000+00:00</td>\n",
       "      <td>214580372</td>\n",
       "    </tr>\n",
       "    <tr>\n",
       "      <th>4867943</th>\n",
       "      <td>11562157</td>\n",
       "      <td>2014-09-25 12:31:29.679000+00:00</td>\n",
       "      <td>214516012</td>\n",
       "    </tr>\n",
       "    <tr>\n",
       "      <th>4867944</th>\n",
       "      <td>11562158</td>\n",
       "      <td>2014-09-26 04:50:29.172000+00:00</td>\n",
       "      <td>214849132</td>\n",
       "    </tr>\n",
       "    <tr>\n",
       "      <th>4867945</th>\n",
       "      <td>11562158</td>\n",
       "      <td>2014-09-26 04:52:21.900000+00:00</td>\n",
       "      <td>214854774</td>\n",
       "    </tr>\n",
       "    <tr>\n",
       "      <th>4867946</th>\n",
       "      <td>11562158</td>\n",
       "      <td>2014-09-26 05:16:32.904000+00:00</td>\n",
       "      <td>214849132</td>\n",
       "    </tr>\n",
       "  </tbody>\n",
       "</table>\n",
       "<p>5254242 rows × 3 columns</p>\n",
       "</div>"
      ],
      "text/plain": [
       "         SessionId                             Time     ItemId\n",
       "126221     9194111 2014-08-31 17:40:46.805000+00:00  214853420\n",
       "126222     9194111 2014-08-31 17:42:26.089000+00:00  214850942\n",
       "126223     9194111 2014-08-31 17:44:06.583000+00:00  214829878\n",
       "126224     9194111 2014-08-31 17:48:49.873000+00:00  214853420\n",
       "126314     9194123 2014-08-31 19:26:57.386000+00:00  214601207\n",
       "...            ...                              ...        ...\n",
       "4867942   11562157 2014-09-25 12:31:10.391000+00:00  214580372\n",
       "4867943   11562157 2014-09-25 12:31:29.679000+00:00  214516012\n",
       "4867944   11562158 2014-09-26 04:50:29.172000+00:00  214849132\n",
       "4867945   11562158 2014-09-26 04:52:21.900000+00:00  214854774\n",
       "4867946   11562158 2014-09-26 05:16:32.904000+00:00  214849132\n",
       "\n",
       "[5254242 rows x 3 columns]"
      ]
     },
     "execution_count": 23,
     "metadata": {},
     "output_type": "execute_result"
    }
   ],
   "source": [
    "data = cleanse_recursive(data, shortest=2, least_click=5)\n",
    "data"
   ]
  },
  {
   "cell_type": "markdown",
   "metadata": {
    "id": "RtF7V6soCbZv"
   },
   "source": [
    "# 테스트셋 확인\n",
    "\n",
    "확인해보니까 일자가 겹쳐서\n",
    "기존 data를 활용해서 만들기로"
   ]
  },
  {
   "cell_type": "code",
   "execution_count": null,
   "metadata": {
    "id": "gXIQFn7tB8ny"
   },
   "outputs": [],
   "source": [
    "# test_path = data_path / 'yoochoose-test.dat'\n",
    "# test= load_data(test_path)\n",
    "# test['Time'].min(), test['Time'].max()"
   ]
  },
  {
   "cell_type": "code",
   "execution_count": 24,
   "metadata": {
    "id": "BmLDDVmPB-1V"
   },
   "outputs": [],
   "source": [
    "def split_by_date(data: pd.DataFrame, n_days: int):\n",
    "    final_time = data['Time'].max()\n",
    "    session_last_time = data.groupby('SessionId')['Time'].max()\n",
    "    session_in_train = session_last_time[session_last_time < final_time - dt.timedelta(n_days)].index\n",
    "    session_in_test = session_last_time[session_last_time >= final_time - dt.timedelta(n_days)].index\n",
    "\n",
    "    before_date = data[data['SessionId'].isin(session_in_train)]\n",
    "    after_date = data[data['SessionId'].isin(session_in_test)]\n",
    "    after_date = after_date[after_date['ItemId'].isin(before_date['ItemId'])]\n",
    "    return before_date, after_date"
   ]
  },
  {
   "cell_type": "code",
   "execution_count": 25,
   "metadata": {
    "id": "9yNfWGeICg1F"
   },
   "outputs": [],
   "source": [
    "tr, test = split_by_date(data, n_days=1)\n",
    "tr, val = split_by_date(tr, n_days=1)"
   ]
  },
  {
   "cell_type": "code",
   "execution_count": 26,
   "metadata": {
    "id": "T_SJq_xxCiqY"
   },
   "outputs": [],
   "source": [
    "# data에 대한 정보를 살펴봅니다.\n",
    "def stats_info(data: pd.DataFrame, status: str):\n",
    "    print(f'* {status} Set Stats Info\\n'\n",
    "          f'\\t Events: {len(data)}\\n'\n",
    "          f'\\t Sessions: {data[\"SessionId\"].nunique()}\\n'\n",
    "          f'\\t Items: {data[\"ItemId\"].nunique()}\\n'\n",
    "          f'\\t First Time : {data[\"Time\"].min()}\\n'\n",
    "          f'\\t Last Time : {data[\"Time\"].max()}\\n')"
   ]
  },
  {
   "cell_type": "code",
   "execution_count": 27,
   "metadata": {
    "colab": {
     "base_uri": "https://localhost:8080/"
    },
    "id": "BAbSgYOaCl2S",
    "outputId": "241423d3-0ef5-418a-e4f1-967a85751589"
   },
   "outputs": [
    {
     "name": "stdout",
     "output_type": "stream",
     "text": [
      "* train Set Stats Info\n",
      "\t Events: 5125100\n",
      "\t Sessions: 1243431\n",
      "\t Items: 20153\n",
      "\t First Time : 2014-08-31 03:00:01.111000+00:00\n",
      "\t Last Time : 2014-09-28 02:57:34.348000+00:00\n",
      "\n",
      "* valid Set Stats Info\n",
      "\t Events: 58074\n",
      "\t Sessions: 12350\n",
      "\t Items: 6232\n",
      "\t First Time : 2014-09-28 03:00:25.298000+00:00\n",
      "\t Last Time : 2014-09-29 02:58:27.660000+00:00\n",
      "\n",
      "* test Set Stats Info\n",
      "\t Events: 71009\n",
      "\t Sessions: 15289\n",
      "\t Items: 6580\n",
      "\t First Time : 2014-09-29 02:37:20.695000+00:00\n",
      "\t Last Time : 2014-09-30 02:59:59.430000+00:00\n",
      "\n"
     ]
    }
   ],
   "source": [
    "stats_info(tr, 'train')\n",
    "stats_info(val, 'valid')\n",
    "stats_info(test, 'test')"
   ]
  },
  {
   "cell_type": "code",
   "execution_count": 28,
   "metadata": {
    "id": "gPlWN3Y1Cpib"
   },
   "outputs": [],
   "source": [
    "# train set에 없는 아이템이 val, test기간에 생길 수 있으므로 train data를 기준으로 인덱싱합니다.\n",
    "id2idx = {item_id : index for index, item_id in enumerate(tr['ItemId'].unique())}\n",
    "\n",
    "def indexing(df, id2idx):\n",
    "    df['item_idx'] = df['ItemId'].map(lambda x: id2idx.get(x, -1))  # id2idx에 없는 아이템은 모르는 값(-1) 처리 해줍니다.\n",
    "    return df\n",
    "\n",
    "tr = indexing(tr, id2idx)\n",
    "val = indexing(val, id2idx)\n",
    "test = indexing(test, id2idx)"
   ]
  },
  {
   "cell_type": "code",
   "execution_count": 29,
   "metadata": {
    "id": "_WORK65nCsaE"
   },
   "outputs": [],
   "source": [
    "from pathlib import Path\n",
    "\n",
    "save_path = Path('./processed')\n",
    "save_path.mkdir(parents=True, exist_ok=True)\n",
    "\n",
    "tr.to_pickle(save_path / 'train.pkl')\n",
    "val.to_pickle(save_path / 'valid.pkl')\n",
    "test.to_pickle(save_path / 'test.pkl')"
   ]
  },
  {
   "cell_type": "markdown",
   "metadata": {},
   "source": [
    "## 전처리 끝\n",
    "\n",
    "## Data pipeline"
   ]
  },
  {
   "cell_type": "code",
   "execution_count": 37,
   "metadata": {
    "id": "qsjEhVnox_rg"
   },
   "outputs": [],
   "source": [
    "class SessionDataset:\n",
    "    \"\"\"Credit to yhs-968/pyGRU4REC.\"\"\"\n",
    "\n",
    "    def __init__(self, data):\n",
    "        self.df = data\n",
    "        self.click_offsets = self.get_click_offsets()\n",
    "        self.session_idx = np.arange(self.df['SessionId'].nunique())  # indexing to SessionId\n",
    "\n",
    "    def get_click_offsets(self):\n",
    "        \"\"\"\n",
    "        Return the indexes of the first click of each session IDs,\n",
    "        \"\"\"\n",
    "        offsets = np.zeros(self.df['SessionId'].nunique() + 1, dtype=np.int32)\n",
    "        offsets[1:] = self.df.groupby('SessionId').size().cumsum()\n",
    "        return offsets"
   ]
  },
  {
   "cell_type": "code",
   "execution_count": 39,
   "metadata": {},
   "outputs": [],
   "source": [
    "# 이 SessionDataset 클래스를 사용하는 목적은 단 하나입니다:\n",
    "# 🎯 세션 기반 추천 모델(RNN 기반)에서,\n",
    "# 각 세션을 시퀀스 형태로 쉽게 가져오기 위한 인덱싱 구조를 만드는 것.\n",
    "\n",
    "# class SessionDataset:\n",
    "#     \"\"\"세션 기반 추천을 위한 데이터셋 클래스 정의.\n",
    "#     참고: yhs-968/pyGRU4REC 구현 기반\"\"\"\n",
    "\n",
    "#     def __init__(self, data):\n",
    "#         self.df = data  # 전체 세션-클릭 로그 데이터를 저장\n",
    "#         self.click_offsets = self.get_click_offsets()  # 각 세션이 시작하는 위치 인덱스 배열 생성\n",
    "#         self.session_idx = np.arange(self.df['SessionId'].nunique())  # 고유한 세션 개수만큼의 인덱스 배열 생성\n",
    "\n",
    "#     def get_click_offsets(self):\n",
    "#         \"\"\"\n",
    "#         각 세션이 df 내에서 시작하는 인덱스를 계산하여 배열로 반환\n",
    "#         예: 세션별 클릭 수가 [3, 2, 4]라면 -> [0, 3, 5, 9] 반환\n",
    "#         \"\"\"\n",
    "#         # 고유한 세션 개수 + 1 크기의 0으로 채워진 배열 생성\n",
    "#         offsets = np.zeros(self.df['SessionId'].nunique() + 1, dtype=np.int32)\n",
    "\n",
    "#         # 세션별 클릭 수를 누적합으로 계산하여 offset[1:]에 저장\n",
    "#         # 이때 cumsum()은 각 세션의 끝 인덱스를 나타냄\n",
    "#         offsets[1:] = self.df.groupby('SessionId').size().cumsum()\n",
    "\n",
    "#         return offsets  # 세션별 시작 인덱스를 담은 배열\n"
   ]
  },
  {
   "cell_type": "markdown",
   "metadata": {},
   "source": [
    "| 구현 목적        | 설명                                       |\n",
    "| ------------ | ---------------------------------------- |\n",
    "| ✅ 세션 시퀀스 추출  | RNN 입력으로 쓸 수 있는 클릭 시퀀스 추출                |\n",
    "| ✅ 성능 최적화     | 슬라이싱을 빠르고 안정적으로 하기 위한 offset 구조          |\n",
    "| ✅ 모델 학습용 전처리 | GRU4Rec, STAMP 등 session-aware 모델에 연결 가능 |\n"
   ]
  },
  {
   "cell_type": "code",
   "execution_count": 38,
   "metadata": {
    "colab": {
     "base_uri": "https://localhost:8080/",
     "height": 363
    },
    "id": "zGQOkZuAyAJ-",
    "outputId": "52787ed8-2b9a-49ab-a911-55493d02ee03"
   },
   "outputs": [
    {
     "data": {
      "text/html": [
       "<div>\n",
       "<style scoped>\n",
       "    .dataframe tbody tr th:only-of-type {\n",
       "        vertical-align: middle;\n",
       "    }\n",
       "\n",
       "    .dataframe tbody tr th {\n",
       "        vertical-align: top;\n",
       "    }\n",
       "\n",
       "    .dataframe thead th {\n",
       "        text-align: right;\n",
       "    }\n",
       "</style>\n",
       "<table border=\"1\" class=\"dataframe\">\n",
       "  <thead>\n",
       "    <tr style=\"text-align: right;\">\n",
       "      <th></th>\n",
       "      <th>SessionId</th>\n",
       "      <th>Time</th>\n",
       "      <th>ItemId</th>\n",
       "      <th>item_idx</th>\n",
       "    </tr>\n",
       "  </thead>\n",
       "  <tbody>\n",
       "    <tr>\n",
       "      <th>126221</th>\n",
       "      <td>9194111</td>\n",
       "      <td>2014-08-31 17:40:46.805000+00:00</td>\n",
       "      <td>214853420</td>\n",
       "      <td>0</td>\n",
       "    </tr>\n",
       "    <tr>\n",
       "      <th>126222</th>\n",
       "      <td>9194111</td>\n",
       "      <td>2014-08-31 17:42:26.089000+00:00</td>\n",
       "      <td>214850942</td>\n",
       "      <td>1</td>\n",
       "    </tr>\n",
       "    <tr>\n",
       "      <th>126223</th>\n",
       "      <td>9194111</td>\n",
       "      <td>2014-08-31 17:44:06.583000+00:00</td>\n",
       "      <td>214829878</td>\n",
       "      <td>2</td>\n",
       "    </tr>\n",
       "    <tr>\n",
       "      <th>126224</th>\n",
       "      <td>9194111</td>\n",
       "      <td>2014-08-31 17:48:49.873000+00:00</td>\n",
       "      <td>214853420</td>\n",
       "      <td>0</td>\n",
       "    </tr>\n",
       "    <tr>\n",
       "      <th>126314</th>\n",
       "      <td>9194123</td>\n",
       "      <td>2014-08-31 19:26:57.386000+00:00</td>\n",
       "      <td>214601207</td>\n",
       "      <td>3</td>\n",
       "    </tr>\n",
       "    <tr>\n",
       "      <th>126315</th>\n",
       "      <td>9194123</td>\n",
       "      <td>2014-08-31 19:34:37.068000+00:00</td>\n",
       "      <td>214510689</td>\n",
       "      <td>4</td>\n",
       "    </tr>\n",
       "    <tr>\n",
       "      <th>126308</th>\n",
       "      <td>9194124</td>\n",
       "      <td>2014-08-31 19:14:28.308000+00:00</td>\n",
       "      <td>214849327</td>\n",
       "      <td>5</td>\n",
       "    </tr>\n",
       "    <tr>\n",
       "      <th>126309</th>\n",
       "      <td>9194124</td>\n",
       "      <td>2014-08-31 19:16:31.114000+00:00</td>\n",
       "      <td>214828970</td>\n",
       "      <td>6</td>\n",
       "    </tr>\n",
       "    <tr>\n",
       "      <th>126311</th>\n",
       "      <td>9194127</td>\n",
       "      <td>2014-09-01 15:36:11.651000+00:00</td>\n",
       "      <td>214845997</td>\n",
       "      <td>7</td>\n",
       "    </tr>\n",
       "    <tr>\n",
       "      <th>126312</th>\n",
       "      <td>9194127</td>\n",
       "      <td>2014-09-01 15:38:00.222000+00:00</td>\n",
       "      <td>214845997</td>\n",
       "      <td>7</td>\n",
       "    </tr>\n",
       "  </tbody>\n",
       "</table>\n",
       "</div>"
      ],
      "text/plain": [
       "        SessionId                             Time     ItemId  item_idx\n",
       "126221    9194111 2014-08-31 17:40:46.805000+00:00  214853420         0\n",
       "126222    9194111 2014-08-31 17:42:26.089000+00:00  214850942         1\n",
       "126223    9194111 2014-08-31 17:44:06.583000+00:00  214829878         2\n",
       "126224    9194111 2014-08-31 17:48:49.873000+00:00  214853420         0\n",
       "126314    9194123 2014-08-31 19:26:57.386000+00:00  214601207         3\n",
       "126315    9194123 2014-08-31 19:34:37.068000+00:00  214510689         4\n",
       "126308    9194124 2014-08-31 19:14:28.308000+00:00  214849327         5\n",
       "126309    9194124 2014-08-31 19:16:31.114000+00:00  214828970         6\n",
       "126311    9194127 2014-09-01 15:36:11.651000+00:00  214845997         7\n",
       "126312    9194127 2014-09-01 15:38:00.222000+00:00  214845997         7"
      ]
     },
     "execution_count": 38,
     "metadata": {},
     "output_type": "execute_result"
    }
   ],
   "source": [
    "tr_dataset = SessionDataset(tr)\n",
    "tr_dataset.df.head(10)"
   ]
  },
  {
   "cell_type": "code",
   "execution_count": 32,
   "metadata": {
    "colab": {
     "base_uri": "https://localhost:8080/"
    },
    "id": "YbAHB5u8yFP4",
    "outputId": "e6097990-0ef2-4d28-e523-1767992bd675"
   },
   "outputs": [
    {
     "data": {
      "text/plain": [
       "array([      0,       4,       6, ..., 5125095, 5125097, 5125100],\n",
       "      dtype=int32)"
      ]
     },
     "execution_count": 32,
     "metadata": {},
     "output_type": "execute_result"
    }
   ],
   "source": [
    "tr_dataset.click_offsets"
   ]
  },
  {
   "cell_type": "code",
   "execution_count": 33,
   "metadata": {
    "colab": {
     "base_uri": "https://localhost:8080/"
    },
    "id": "VjP76szoyFpj",
    "outputId": "fd3a9605-46f3-4096-9818-5fdfb6868528"
   },
   "outputs": [
    {
     "data": {
      "text/plain": [
       "array([      0,       1,       2, ..., 1243428, 1243429, 1243430])"
      ]
     },
     "execution_count": 33,
     "metadata": {},
     "output_type": "execute_result"
    }
   ],
   "source": [
    "tr_dataset.session_idx"
   ]
  },
  {
   "cell_type": "markdown",
   "metadata": {},
   "source": [
    "## Session Dataloader \n",
    "\n",
    "* 반복 가능한 객체 알아보기 - https://dojang.io/mod/page/view.php?id=2405\n",
    "* SessionDataset 객체를 받아서 Session-Parallel mini-batch를 만드는 클래스를 만듭니다.\n",
    "* __iter__ 메서드는 모델 인풋, 라벨, 세션이 끝나는 곳의 위치를 yield합니다.\n",
    "* mask는 후에 RNN Cell State를 초기화하는데 사용할 것입니다.\n"
   ]
  },
  {
   "cell_type": "markdown",
   "metadata": {},
   "source": [
    "핵심 역할:\n",
    "- 한 번에 batch_size만큼의 세션을 병렬로 처리\n",
    "- 세션 길이가 다르기 때문에, 가장 짧은 세션 기준으로만 동시 진행\n",
    "- 세션이 끝난 자리는 다음 세션으로 교체\n",
    "- 즉, 각 세션별로 데이터프레임에서 시작과 끝을 인덱싱한 것 "
   ]
  },
  {
   "cell_type": "code",
   "execution_count": 40,
   "metadata": {
    "id": "P2jpoFfMyGk1"
   },
   "outputs": [],
   "source": [
    "class SessionDataLoader:\n",
    "    \"\"\"Credit to yhs-968/pyGRU4REC.\"\"\"\n",
    "\n",
    "    def __init__(self, dataset: SessionDataset, batch_size=50):\n",
    "        self.dataset = dataset\n",
    "        self.batch_size = batch_size\n",
    "\n",
    "    def __iter__(self):\n",
    "        \"\"\" Returns the iterator for producing session-parallel training mini-batches.\n",
    "        Yields:\n",
    "            input (B,):  Item indices that will be encoded as one-hot vectors later.\n",
    "            target (B,): a Variable that stores the target item indices\n",
    "            masks: Numpy array indicating the positions of the sessions to be terminated\n",
    "        \"\"\"\n",
    "\n",
    "        start, end, mask, last_session, finished = self.initialize()  # initialize 메소드에서 확인해주세요.\n",
    "        \"\"\"\n",
    "        start : Index Where Session Start\n",
    "        end : Index Where Session End\n",
    "        mask : indicator for the sessions to be terminated\n",
    "        \"\"\"\n",
    "\n",
    "        while not finished:\n",
    "            min_len = (end - start).min() - 1  # Shortest Length Among Sessions\n",
    "            for i in range(min_len):\n",
    "                # Build inputs & targets\n",
    "                inp = self.dataset.df['item_idx'].values[start + i]\n",
    "                target = self.dataset.df['item_idx'].values[start + i + 1]\n",
    "                yield inp, target, mask\n",
    "\n",
    "            start, end, mask, last_session, finished = self.update_status(start, end, min_len, last_session, finished)\n",
    "\n",
    "    def initialize(self):\n",
    "        first_iters = np.arange(self.batch_size)    # 첫 배치에 사용할 세션 Index를 가져옵니다.\n",
    "        last_session = self.batch_size - 1    # 마지막으로 다루고 있는 세션 Index를 저장해둡니다.\n",
    "        start = self.dataset.click_offsets[self.dataset.session_idx[first_iters]]       # data 상에서 session이 시작된 위치를 가져옵니다.\n",
    "        end = self.dataset.click_offsets[self.dataset.session_idx[first_iters] + 1]  # session이 끝난 위치 바로 다음 위치를 가져옵니다.\n",
    "        mask = np.array([])   # session의 모든 아이템을 다 돌은 경우 mask에 추가해줄 것입니다.\n",
    "        finished = False         # data를 전부 돌았는지 기록하기 위한 변수입니다.\n",
    "        return start, end, mask, last_session, finished\n",
    "\n",
    "    def update_status(self, start: np.ndarray, end: np.ndarray, min_len: int, last_session: int, finished: bool):\n",
    "        # 다음 배치 데이터를 생성하기 위해 상태를 update합니다.\n",
    "\n",
    "        start += min_len   # __iter__에서 min_len 만큼 for문을 돌았으므로 start를 min_len 만큼 더해줍니다.\n",
    "        mask = np.arange(self.batch_size)[(end - start) == 1]\n",
    "        # end는 다음 세션이 시작되는 위치인데 start와 한 칸 차이난다는 것은 session이 끝났다는 뜻입니다. mask에 기록해줍니다.\n",
    "\n",
    "        for i, idx in enumerate(mask, start=1):  # mask에 추가된 세션 개수만큼 새로운 세션을 돌것입니다.\n",
    "            new_session = last_session + i\n",
    "            if new_session > self.dataset.session_idx[-1]:  # 만약 새로운 세션이 마지막 세션 index보다 크다면 모든 학습데이터를 돈 것입니다.\n",
    "                finished = True\n",
    "                break\n",
    "            # update the next starting/ending point\n",
    "            start[idx] = self.dataset.click_offsets[self.dataset.session_idx[new_session]]     # 종료된 세션 대신 새로운 세션의 시작점을 기록합니다.\n",
    "            end[idx] = self.dataset.click_offsets[self.dataset.session_idx[new_session] + 1]\n",
    "\n",
    "        last_session += len(mask)  # 마지막 세션의 위치를 기록해둡니다.\n",
    "        return start, end, mask, last_session, finished"
   ]
  },
  {
   "cell_type": "code",
   "execution_count": 41,
   "metadata": {
    "colab": {
     "base_uri": "https://localhost:8080/",
     "height": 519
    },
    "id": "daTR19JIyJsD",
    "outputId": "c248d089-14c2-4d64-c95d-21c12df004ef"
   },
   "outputs": [
    {
     "data": {
      "text/html": [
       "<div>\n",
       "<style scoped>\n",
       "    .dataframe tbody tr th:only-of-type {\n",
       "        vertical-align: middle;\n",
       "    }\n",
       "\n",
       "    .dataframe tbody tr th {\n",
       "        vertical-align: top;\n",
       "    }\n",
       "\n",
       "    .dataframe thead th {\n",
       "        text-align: right;\n",
       "    }\n",
       "</style>\n",
       "<table border=\"1\" class=\"dataframe\">\n",
       "  <thead>\n",
       "    <tr style=\"text-align: right;\">\n",
       "      <th></th>\n",
       "      <th>SessionId</th>\n",
       "      <th>Time</th>\n",
       "      <th>ItemId</th>\n",
       "      <th>item_idx</th>\n",
       "    </tr>\n",
       "  </thead>\n",
       "  <tbody>\n",
       "    <tr>\n",
       "      <th>126221</th>\n",
       "      <td>9194111</td>\n",
       "      <td>2014-08-31 17:40:46.805000+00:00</td>\n",
       "      <td>214853420</td>\n",
       "      <td>0</td>\n",
       "    </tr>\n",
       "    <tr>\n",
       "      <th>126222</th>\n",
       "      <td>9194111</td>\n",
       "      <td>2014-08-31 17:42:26.089000+00:00</td>\n",
       "      <td>214850942</td>\n",
       "      <td>1</td>\n",
       "    </tr>\n",
       "    <tr>\n",
       "      <th>126223</th>\n",
       "      <td>9194111</td>\n",
       "      <td>2014-08-31 17:44:06.583000+00:00</td>\n",
       "      <td>214829878</td>\n",
       "      <td>2</td>\n",
       "    </tr>\n",
       "    <tr>\n",
       "      <th>126224</th>\n",
       "      <td>9194111</td>\n",
       "      <td>2014-08-31 17:48:49.873000+00:00</td>\n",
       "      <td>214853420</td>\n",
       "      <td>0</td>\n",
       "    </tr>\n",
       "    <tr>\n",
       "      <th>126314</th>\n",
       "      <td>9194123</td>\n",
       "      <td>2014-08-31 19:26:57.386000+00:00</td>\n",
       "      <td>214601207</td>\n",
       "      <td>3</td>\n",
       "    </tr>\n",
       "    <tr>\n",
       "      <th>126315</th>\n",
       "      <td>9194123</td>\n",
       "      <td>2014-08-31 19:34:37.068000+00:00</td>\n",
       "      <td>214510689</td>\n",
       "      <td>4</td>\n",
       "    </tr>\n",
       "    <tr>\n",
       "      <th>126308</th>\n",
       "      <td>9194124</td>\n",
       "      <td>2014-08-31 19:14:28.308000+00:00</td>\n",
       "      <td>214849327</td>\n",
       "      <td>5</td>\n",
       "    </tr>\n",
       "    <tr>\n",
       "      <th>126309</th>\n",
       "      <td>9194124</td>\n",
       "      <td>2014-08-31 19:16:31.114000+00:00</td>\n",
       "      <td>214828970</td>\n",
       "      <td>6</td>\n",
       "    </tr>\n",
       "    <tr>\n",
       "      <th>126311</th>\n",
       "      <td>9194127</td>\n",
       "      <td>2014-09-01 15:36:11.651000+00:00</td>\n",
       "      <td>214845997</td>\n",
       "      <td>7</td>\n",
       "    </tr>\n",
       "    <tr>\n",
       "      <th>126312</th>\n",
       "      <td>9194127</td>\n",
       "      <td>2014-09-01 15:38:00.222000+00:00</td>\n",
       "      <td>214845997</td>\n",
       "      <td>7</td>\n",
       "    </tr>\n",
       "    <tr>\n",
       "      <th>126313</th>\n",
       "      <td>9194127</td>\n",
       "      <td>2014-09-01 15:38:56.867000+00:00</td>\n",
       "      <td>214845997</td>\n",
       "      <td>7</td>\n",
       "    </tr>\n",
       "    <tr>\n",
       "      <th>126324</th>\n",
       "      <td>9194128</td>\n",
       "      <td>2014-08-31 19:09:27.360000+00:00</td>\n",
       "      <td>214581830</td>\n",
       "      <td>8</td>\n",
       "    </tr>\n",
       "    <tr>\n",
       "      <th>126325</th>\n",
       "      <td>9194128</td>\n",
       "      <td>2014-08-31 19:10:04.641000+00:00</td>\n",
       "      <td>214574135</td>\n",
       "      <td>9</td>\n",
       "    </tr>\n",
       "    <tr>\n",
       "      <th>126326</th>\n",
       "      <td>9194128</td>\n",
       "      <td>2014-08-31 19:10:57+00:00</td>\n",
       "      <td>214857795</td>\n",
       "      <td>10</td>\n",
       "    </tr>\n",
       "    <tr>\n",
       "      <th>126327</th>\n",
       "      <td>9194128</td>\n",
       "      <td>2014-08-31 19:11:31.797000+00:00</td>\n",
       "      <td>214574139</td>\n",
       "      <td>11</td>\n",
       "    </tr>\n",
       "  </tbody>\n",
       "</table>\n",
       "</div>"
      ],
      "text/plain": [
       "        SessionId                             Time     ItemId  item_idx\n",
       "126221    9194111 2014-08-31 17:40:46.805000+00:00  214853420         0\n",
       "126222    9194111 2014-08-31 17:42:26.089000+00:00  214850942         1\n",
       "126223    9194111 2014-08-31 17:44:06.583000+00:00  214829878         2\n",
       "126224    9194111 2014-08-31 17:48:49.873000+00:00  214853420         0\n",
       "126314    9194123 2014-08-31 19:26:57.386000+00:00  214601207         3\n",
       "126315    9194123 2014-08-31 19:34:37.068000+00:00  214510689         4\n",
       "126308    9194124 2014-08-31 19:14:28.308000+00:00  214849327         5\n",
       "126309    9194124 2014-08-31 19:16:31.114000+00:00  214828970         6\n",
       "126311    9194127 2014-09-01 15:36:11.651000+00:00  214845997         7\n",
       "126312    9194127 2014-09-01 15:38:00.222000+00:00  214845997         7\n",
       "126313    9194127 2014-09-01 15:38:56.867000+00:00  214845997         7\n",
       "126324    9194128 2014-08-31 19:09:27.360000+00:00  214581830         8\n",
       "126325    9194128 2014-08-31 19:10:04.641000+00:00  214574135         9\n",
       "126326    9194128        2014-08-31 19:10:57+00:00  214857795        10\n",
       "126327    9194128 2014-08-31 19:11:31.797000+00:00  214574139        11"
      ]
     },
     "execution_count": 41,
     "metadata": {},
     "output_type": "execute_result"
    }
   ],
   "source": [
    "tr_data_loader = SessionDataLoader(tr_dataset, batch_size=4)\n",
    "tr_dataset.df.head(15)"
   ]
  },
  {
   "cell_type": "code",
   "execution_count": 42,
   "metadata": {
    "id": "ULMPS-12yKMq"
   },
   "outputs": [],
   "source": [
    "iter_ex = iter(tr_data_loader)"
   ]
  },
  {
   "cell_type": "markdown",
   "metadata": {},
   "source": [
    "## 4.2. Session DataLoader"
   ]
  },
  {
   "cell_type": "code",
   "execution_count": 43,
   "metadata": {
    "colab": {
     "base_uri": "https://localhost:8080/"
    },
    "id": "cwMvq3kayNIY",
    "outputId": "1fba6f75-6013-4287-87e3-89df47bd96ed"
   },
   "outputs": [
    {
     "name": "stdout",
     "output_type": "stream",
     "text": [
      "Model Input Item Idx are : [0 3 5 7]\n",
      "Label Item Idx are :       [1 4 6 7]\n",
      "Previous Masked Input Idx are []\n"
     ]
    }
   ],
   "source": [
    "inputs, labels, mask =  next(iter_ex)\n",
    "print(f'Model Input Item Idx are : {inputs}')\n",
    "print(f'Label Item Idx are : {\"\":5} {labels}')\n",
    "print(f'Previous Masked Input Idx are {mask}')"
   ]
  },
  {
   "cell_type": "markdown",
   "metadata": {},
   "source": [
    "📌 이 코드의 목적은?\n",
    "세션 기반 추천 모델이 생성한 추천 결과(pred) 에 대해\n",
    "\n",
    "실제 정답이 얼마나 빨리 나왔는가(MRR), 들어는 있었는가(Recall) 를 평가하는 함수입니다.\n",
    "\n",
    "실무에서는 이 두 지표를 평균(MRR@k, Recall@k) 내어 전체 모델 성능을 측정합니다.\n",
    "\n"
   ]
  },
  {
   "cell_type": "code",
   "execution_count": 47,
   "metadata": {
    "id": "nDvt8IJtyR2I"
   },
   "outputs": [],
   "source": [
    "import numpy as np\n",
    "\n",
    "def mrr_k(pred, truth: int, k: int):\n",
    "    \"\"\"\n",
    "    MRR@k (Mean Reciprocal Rank) 계산 함수\n",
    "    - pred: 모델이 예측한 추천 아이템 리스트 (1차원 배열)\n",
    "    - truth: 실제 유저가 클릭한 정답 아이템 (int)\n",
    "    - k: top-k까지의 예측 결과만 평가\n",
    "\n",
    "    반환값:\n",
    "    - 정답이 pred[:k]에 포함되어 있으면, 해당 위치의 역수 (1 / 순위)\n",
    "    - 없으면 0\n",
    "    \"\"\"\n",
    "    indexing = np.where(pred[:k] == truth)[0]  # 정답이 top-k 내에 있는지 위치(인덱스) 찾기\n",
    "    if len(indexing) > 0:\n",
    "        return 1 / (indexing[0] + 1)           # 순위는 1-based이므로 index + 1의 역수 반환\n",
    "    else:\n",
    "        return 0                               # 정답이 top-k에 없으면 점수는 0\n",
    "\n",
    "\n",
    "def recall_k(pred, truth: int, k: int) -> int:\n",
    "    \"\"\"\n",
    "    Recall@k 계산 함수\n",
    "    - pred: 모델이 예측한 추천 아이템 리스트 (1차원 배열)\n",
    "    - truth: 실제 유저가 클릭한 정답 아이템 (int)\n",
    "    - k: top-k까지의 예측 결과만 평가\n",
    "\n",
    "    반환값:\n",
    "    - 정답이 pred[:k] 안에 있으면 1, 아니면 0\n",
    "    \"\"\"\n",
    "    answer = truth in pred[:k]  # 정답이 top-k 추천 목록에 포함되었는지 여부\n",
    "    return int(answer)          # 포함되면 1, 아니면 0 (int형으로 반환)\n"
   ]
  },
  {
   "cell_type": "markdown",
   "metadata": {},
   "source": [
    "## Modeling\n",
    "\n",
    "* 모델 성능 평가를 위한 지표 평가, precision이나 recall\n",
    "- Session-Based Recommendation Task에서는, 모델이 k개의 아이템을 제시했을 때, 유저가 클릭/ 구매한 n개의 아이템이 많아야 좋음.\n",
    "- 이 때문에 recall의 개념을 확장한 recall@k 지표, precision의 개념을 확장한 Mean Average Precision@k 지표 등을 사용.\n",
    "- 추천에서는 몇 번째로 맞추느냐도 중요 - 구글에서 검색했을 때 1페이지에 원하는 결과가 나오지 않고 2페이지에 나온다면 유저 반응이 크게 떨어질 것.따라서 순서에 민감한 지표인 MRR, NDCG 같은 지표도 사용.\n",
    "\n",
    "- 이번 자료에서는 MRR과 Recall@k를 사용하겠습니다. MRR은 정답 아이템이 나온 순번의 역수 값입니다. 따라서 정답 아이템이 추천 결과 앞쪽 순번에 나온다면 지표가 높아질 것이고 뒤쪽에 나오거나 안 나온다면 지표가 낮아질 것입니다.\n",
    "\n",
    "🎯 배경: 추천 시스템에서의 \"정답\"이란?\n",
    "사용자가 세션 내에서 클릭하거나 구매한 실제 아이템이 “정답”입니다.\n",
    "모델은 추천 리스트(k개)를 제시하고,\n",
    "그 안에 정답이 들어 있는지 / 몇 번째에 있는지로 성능을 평가합니다.\n",
    "\n",
    "✅ 왜 precision이나 recall만으론 부족한가?\n",
    "일반적인 분류 문제에서는 “맞췄냐/틀렸냐”만 중요하지만,\n",
    "\n",
    "추천 시스템에서는 \"정답이 얼마나 위에 있느냐\" 도 중요합니다.\n",
    "\n",
    "예:\n",
    "\n",
    "검색 결과가 10페이지 중 8페이지에 나와도 technically 맞긴 하지만,\n",
    "실제 사용자 입장에서는 무의미하죠.\n",
    "\n",
    "📊 주요 지표 설명\n",
    "1️⃣ Recall@k\n",
    "모델이 상위 k개의 아이템을 추천했을 때,\n",
    "\n",
    "그 안에 정답 아이템이 있으면 1, 없으면 0\n",
    "\n",
    "Recall@k = (# 정답 포함된 세션 수) / (전체 세션 수)\n",
    "✅ 강점: \"정답을 포함했는가\"를 측정\n",
    "❌ 약점: 정답이 몇 번째인지는 고려하지 않음\n",
    "\n",
    "2️⃣ MRR (Mean Reciprocal Rank)\n",
    "정답이 나온 순번의 역수를 평균한 값\n",
    "예: 정답이 1등이면 1.0, 2등이면 0.5, 3등이면 0.333...\n",
    "MRR = 평균(1 / 정답 순위)\n",
    "✅ 강점: 정답을 얼마나 빨리 보여줬는가 측정\n",
    "❌ 약점: 정답이 여러 개일 경우 대표 하나만 반영\n",
    "\n",
    "3️⃣ (참고) MAP@k (Mean Average Precision)\n",
    "Precision을 세션 단위 누적 평균으로 확장한 지표\n",
    "\n",
    "예: 정답이 여러 개인 경우, 여러 개의 정답 중 얼마나 많이, 얼마나 앞에서 맞췄는가 반영\n",
    "\n",
    "🧪 왜 Recall@k + MRR을 같이 쓰나?\n",
    "\n",
    "\n",
    "| 지표        | 무엇을 측정하나?        | 직관적인 의미      |\n",
    "| --------- | ---------------- | ------------ |\n",
    "| Recall\\@k | 정답이 Top-k 안에 있냐? | 추천에 성공했는가    |\n",
    "| MRR       | 정답이 얼마나 위에 있냐?   | 사용자 만족에 가까운가 |\n",
    "\n",
    "\n",
    "→ Recall@k는 포괄적인 정확성,\n",
    "→ MRR은 사용자 체감 만족도(탑에 가까운가?) 를 측정합니다.\n",
    "\n",
    "📝 요약\n",
    "추천 시스템의 평가는 단순히 맞추는 것만이 아니라,\n",
    "얼마나 빠르게(위쪽에서) 맞췄느냐도 매우 중요합니다.\n",
    "\n",
    "따라서:\n",
    "\n",
    "Recall@k → “맞췄니?”\n",
    "\n",
    "MRR → “얼마나 빨리 맞췄니?”\n",
    "\n",
    "를 같이 쓰는 것이 일반적입니다.\n",
    "\n"
   ]
  },
  {
   "cell_type": "markdown",
   "metadata": {},
   "source": [
    "## Model Architecture"
   ]
  },
  {
   "cell_type": "code",
   "execution_count": 46,
   "metadata": {
    "id": "9QXqLmZbySSu"
   },
   "outputs": [],
   "source": [
    "import numpy as np\n",
    "import tensorflow as tf\n",
    "from tensorflow.keras.layers import Input, Dense, Dropout, GRU\n",
    "from tensorflow.keras.losses import categorical_crossentropy\n",
    "from tensorflow.keras.models import Model\n",
    "from tensorflow.keras.optimizers import Adam\n",
    "from tensorflow.keras.utils import to_categorical\n",
    "from tqdm import tqdm"
   ]
  },
  {
   "cell_type": "code",
   "execution_count": 49,
   "metadata": {
    "id": "tIS2M_sbyclA"
   },
   "outputs": [],
   "source": [
    "def create_model(args):\n",
    "    inputs = Input(batch_shape=(args.batch_size, 1, args.num_items))\n",
    "    gru, _ = GRU(args.hsz, stateful=True, return_state=True, name='GRU')(inputs)\n",
    "    dropout = Dropout(args.drop_rate)(gru)\n",
    "    predictions = Dense(args.num_items, activation='softmax')(dropout)\n",
    "    model = Model(inputs=inputs, outputs=[predictions])\n",
    "    model.compile(loss=categorical_crossentropy, optimizer=Adam(args.lr), metrics=['accuracy'])\n",
    "    model.summary()\n",
    "    return model"
   ]
  },
  {
   "cell_type": "code",
   "execution_count": 48,
   "metadata": {},
   "outputs": [],
   "source": [
    "def create_model(args):\n",
    "    \"\"\"\n",
    "    GRU 기반의 세션 추천 모델 생성 함수\n",
    "    - 입력: args (모델 하이퍼파라미터가 저장된 객체)\n",
    "    - 출력: 컴파일된 Keras 모델 객체\n",
    "    \"\"\"\n",
    "\n",
    "    # (batch_size, time_steps, num_items) 형태의 입력 정의\n",
    "    # → 예: one-hot 인코딩된 아이템 시퀀스\n",
    "    inputs = Input(batch_shape=(args.batch_size, 1, args.num_items))  \n",
    "\n",
    "    # GRU 레이어 생성 (stateful=True로 세션별 상태 유지)\n",
    "    # - args.hsz: hidden state 크기\n",
    "    # - return_state=True: 마지막 hidden state도 반환\n",
    "    gru, _ = GRU(args.hsz, stateful=True, return_state=True, name='GRU')(inputs)\n",
    "\n",
    "    # Dropout 레이어로 과적합 방지\n",
    "    dropout = Dropout(args.drop_rate)(gru)\n",
    "\n",
    "    # 출력 레이어: 아이템 수만큼의 softmax 확률 분포\n",
    "    predictions = Dense(args.num_items, activation='softmax')(dropout)\n",
    "\n",
    "    # 모델 구성: 입력 → GRU → Dropout → Dense → 예측\n",
    "    model = Model(inputs=inputs, outputs=[predictions])\n",
    "\n",
    "    # 모델 컴파일 (손실 함수: categorical crossentropy, 옵티마이저: Adam)\n",
    "    model.compile(\n",
    "        loss=categorical_crossentropy,\n",
    "        optimizer=Adam(args.lr),\n",
    "        metrics=['accuracy']\n",
    "    )\n",
    "\n",
    "    # 모델 구조 출력\n",
    "    model.summary()\n",
    "\n",
    "    return model  # 학습 가능한 모델 반환"
   ]
  },
  {
   "cell_type": "code",
   "execution_count": 50,
   "metadata": {
    "id": "-C0cOap_yecR"
   },
   "outputs": [],
   "source": [
    "class Args:\n",
    "    def __init__(self, tr, val, test, batch_size, hsz, drop_rate, lr, epochs, k):\n",
    "        self.tr = tr\n",
    "        self.val = val\n",
    "        self.test = test\n",
    "        self.num_items = tr['ItemId'].nunique()\n",
    "        self.num_sessions = tr['SessionId'].nunique()\n",
    "        self.batch_size = batch_size\n",
    "        self.hsz = hsz\n",
    "        self.drop_rate = drop_rate\n",
    "        self.lr = lr\n",
    "        self.epochs = epochs\n",
    "        self.k = k\n",
    "\n",
    "args = Args(tr, val, test, batch_size=2048, hsz=50, drop_rate=0.1, lr=0.001, epochs=3, k=20)"
   ]
  },
  {
   "cell_type": "code",
   "execution_count": 51,
   "metadata": {
    "colab": {
     "base_uri": "https://localhost:8080/",
     "height": 273
    },
    "id": "a43FQ2prygWR",
    "outputId": "7dec057c-338d-4693-aa76-2c117b48db6e"
   },
   "outputs": [
    {
     "name": "stdout",
     "output_type": "stream",
     "text": [
      "Model: \"model\"\n",
      "_________________________________________________________________\n",
      "Layer (type)                 Output Shape              Param #   \n",
      "=================================================================\n",
      "input_1 (InputLayer)         [(2048, 1, 20153)]        0         \n",
      "_________________________________________________________________\n",
      "GRU (GRU)                    [(2048, 50), (2048, 50)]  3030750   \n",
      "_________________________________________________________________\n",
      "dropout (Dropout)            (2048, 50)                0         \n",
      "_________________________________________________________________\n",
      "dense (Dense)                (2048, 20153)             1027803   \n",
      "=================================================================\n",
      "Total params: 4,058,553\n",
      "Trainable params: 4,058,553\n",
      "Non-trainable params: 0\n",
      "_________________________________________________________________\n"
     ]
    }
   ],
   "source": [
    "model = create_model(args)"
   ]
  },
  {
   "cell_type": "markdown",
   "metadata": {},
   "source": [
    "## Model Training"
   ]
  },
  {
   "cell_type": "code",
   "execution_count": 52,
   "metadata": {
    "id": "vt2AUn6BzM2F"
   },
   "outputs": [],
   "source": [
    "# train 셋으로 학습하면서 valid 셋으로 검증합니다.\n",
    "def train_model(model, args):\n",
    "    train_dataset = SessionDataset(args.tr)\n",
    "    train_loader = SessionDataLoader(train_dataset, batch_size=args.batch_size)\n",
    "\n",
    "    for epoch in range(1, args.epochs + 1):\n",
    "        total_step = len(args.tr) - args.tr['SessionId'].nunique()\n",
    "        tr_loader = tqdm(train_loader, total=total_step // args.batch_size, desc='Train', mininterval=1)\n",
    "        for feat, target, mask in tr_loader:\n",
    "            reset_hidden_states(model, mask)  # 종료된 session은 hidden_state를 초기화합니다. 아래 메서드에서 확인해주세요.\n",
    "\n",
    "            input_ohe = to_categorical(feat, num_classes=args.num_items)\n",
    "            input_ohe = np.expand_dims(input_ohe, axis=1)\n",
    "            target_ohe = to_categorical(target, num_classes=args.num_items)\n",
    "\n",
    "            result = model.train_on_batch(input_ohe, target_ohe)\n",
    "            tr_loader.set_postfix(train_loss=result[0], accuracy = result[1])\n",
    "\n",
    "        val_recall, val_mrr = get_metrics(args.val, model, args, args.k)  # valid set에 대해 검증합니다.\n",
    "\n",
    "        print(f\"\\t - Recall@{args.k} epoch {epoch}: {val_recall:3f}\")\n",
    "        print(f\"\\t - MRR@{args.k}    epoch {epoch}: {val_mrr:3f}\\n\")\n",
    "\n",
    "\n",
    "def reset_hidden_states(model, mask):\n",
    "    gru_layer = model.get_layer(name='GRU')  # model에서 gru layer를 가져옵니다.\n",
    "    hidden_states = gru_layer.states[0].numpy()  # gru_layer의 parameter를 가져옵니다.\n",
    "    for elt in mask:  # mask된 인덱스 즉, 종료된 세션의 인덱스를 돌면서\n",
    "        hidden_states[elt, :] = 0  # parameter를 초기화 합니다.\n",
    "    gru_layer.reset_states(states=hidden_states)\n",
    "\n",
    "## 모델을 가져오는 과정에서 수정이 필요합니다\n",
    "def get_metrics(data, model, args, k: int):  # valid셋과 test셋을 평가하는 코드입니다.\n",
    "                                             # train과 거의 같지만 mrr, recall을 구하는 라인이 있습니다.\n",
    "    dataset = SessionDataset(data)\n",
    "    loader = SessionDataLoader(dataset, batch_size=args.batch_size)\n",
    "    recall_list, mrr_list = [], []\n",
    "\n",
    "    total_step = len(data) - data['SessionId'].nunique()\n",
    "\n",
    "    for inputs, label, mask in tqdm(loader, total=total_step // args.batch_size, desc='Evaluation', mininterval=1):\n",
    "        reset_hidden_states(model, mask)\n",
    "        input_ohe = to_categorical(inputs, num_classes=args.num_items)\n",
    "        input_ohe = np.expand_dims(input_ohe, axis=1)\n",
    "\n",
    "        pred = model.predict(input_ohe, batch_size=args.batch_size)\n",
    "        # pred = model(input_ohe, training=False)\n",
    "\n",
    "        # # 🔥 dict이면 첫 번째 값만 추출\n",
    "        # if isinstance(pred, dict):\n",
    "        #     pred = list(pred.values())[0]\n",
    "\n",
    "        pred_arg = tf.argsort(pred, direction='DESCENDING')  # softmax 값이 큰 순서대로 sorting 합니다.\n",
    "\n",
    "        length = len(inputs)\n",
    "        recall_list.extend([recall_k(pred_arg[i], label[i], k) for i in range(length)])\n",
    "        mrr_list.extend([mrr_k(pred_arg[i], label[i], k) for i in range(length)])\n",
    "\n",
    "    recall, mrr = np.mean(recall_list), np.mean(mrr_list)\n",
    "    return recall, mrr"
   ]
  },
  {
   "cell_type": "code",
   "execution_count": null,
   "metadata": {
    "colab": {
     "base_uri": "https://localhost:8080/",
     "height": 315
    },
    "id": "vVJYLzFCzR_e",
    "outputId": "e64e6826-dc7a-4b49-f114-33c8f71c20c1"
   },
   "outputs": [],
   "source": [
    "train_model(model, args)"
   ]
  },
  {
   "cell_type": "code",
   "execution_count": null,
   "metadata": {
    "id": "mOGghyiWzNz1"
   },
   "outputs": [],
   "source": [
    "# 학습 시간이 다소 오래 소요됩니다. 아래 주석을 풀지 마세요.\n",
    "\n",
    "\n",
    "from keras.layers import TFSMLayer\n",
    "\n",
    "# ## colab에서 하면 keras 모델을 불러오는 방법이 달라집니다 load model을 하려면 keras 로 저장했어야하는데 h5 형태이기때문\n",
    "# model = TFSMLayer(\n",
    "#     \"/content/drive/MyDrive/Colab Notebooks/데싸4기/추천시스템/data/trained_model\",\n",
    "#     call_endpoint=\"serving_default\"  # 보통 이 이름이 맞지만 다른 경우도 있음\n",
    "# )"
   ]
  },
  {
   "cell_type": "markdown",
   "metadata": {},
   "source": [
    "## Inference"
   ]
  },
  {
   "cell_type": "code",
   "execution_count": null,
   "metadata": {
    "id": "3Su4jPhiDg56"
   },
   "outputs": [],
   "source": [
    "def test_model(model, args, test):\n",
    "    test_recall, test_mrr = get_metrics(test, model, args, 20)\n",
    "    print(f\"\\t - Recall@{args.k}: {test_recall:3f}\")\n",
    "    print(f\"\\t - MRR@{args.k}: {test_mrr:3f}\\n\")\n",
    "\n",
    "test_model(model, args, test)"
   ]
  }
 ],
 "metadata": {
  "colab": {
   "provenance": []
  },
  "kernelspec": {
   "display_name": "Python 3 (ipykernel)",
   "language": "python",
   "name": "python3"
  },
  "language_info": {
   "codemirror_mode": {
    "name": "ipython",
    "version": 3
   },
   "file_extension": ".py",
   "mimetype": "text/x-python",
   "name": "python",
   "nbconvert_exporter": "python",
   "pygments_lexer": "ipython3",
   "version": "3.9.7"
  }
 },
 "nbformat": 4,
 "nbformat_minor": 1
}
